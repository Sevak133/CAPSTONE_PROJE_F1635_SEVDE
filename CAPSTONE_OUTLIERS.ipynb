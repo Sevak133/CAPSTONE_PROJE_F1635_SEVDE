{
 "cells": [
  {
   "cell_type": "code",
   "execution_count": 22,
   "metadata": {},
   "outputs": [],
   "source": [
    "import numpy as np\n",
    "import pandas as pd\n",
    "import matplotlib.pyplot as plt\n",
    "import seaborn as sns\n",
    "import scipy \n",
    "\n",
    "import warnings\n",
    "warnings.filterwarnings('ignore')"
   ]
  },
  {
   "cell_type": "code",
   "execution_count": 23,
   "metadata": {},
   "outputs": [],
   "source": [
    "df_ = pd.read_csv('Capstone_Cleaning.csv')\n",
    "df  = df_.copy()"
   ]
  },
  {
   "cell_type": "code",
   "execution_count": 82,
   "metadata": {},
   "outputs": [
    {
     "data": {
      "text/plain": [
       "142    16500.00\n",
       "767    15097.00\n",
       "980         NaN\n",
       "1937        NaN\n",
       "1951        NaN\n",
       "Name: km, dtype: float64"
      ]
     },
     "execution_count": 82,
     "metadata": {},
     "output_type": "execute_result"
    }
   ],
   "source": [
    "df.km.head()"
   ]
  },
  {
   "cell_type": "code",
   "execution_count": 25,
   "metadata": {},
   "outputs": [
    {
     "data": {
      "text/plain": [
       "(15919, 25)"
      ]
     },
     "execution_count": 25,
     "metadata": {},
     "output_type": "execute_result"
    }
   ],
   "source": [
    "df.shape"
   ]
  },
  {
   "cell_type": "code",
   "execution_count": 26,
   "metadata": {},
   "outputs": [
    {
     "name": "stdout",
     "output_type": "stream",
     "text": [
      "<class 'pandas.core.frame.DataFrame'>\n",
      "RangeIndex: 15919 entries, 0 to 15918\n",
      "Data columns (total 25 columns):\n",
      " #   Column               Non-Null Count  Dtype  \n",
      "---  ------               --------------  -----  \n",
      " 0   Unnamed: 0           15919 non-null  int64  \n",
      " 1   make_model           15919 non-null  object \n",
      " 2   body_type            15859 non-null  object \n",
      " 3   price                15919 non-null  int64  \n",
      " 4   vat                  11406 non-null  object \n",
      " 5   km                   14895 non-null  float64\n",
      " 6   hp                   15831 non-null  float64\n",
      " 7   type                 15917 non-null  object \n",
      " 8   gearing_type         15919 non-null  object \n",
      " 9   displacement         15423 non-null  float64\n",
      " 10  fuel                 15919 non-null  object \n",
      " 11  co2_emission         13483 non-null  float64\n",
      " 12  comfort&convenience  14999 non-null  object \n",
      " 13  entertainment&media  14545 non-null  object \n",
      " 14  extras               12957 non-null  object \n",
      " 15  safety&security      14937 non-null  object \n",
      " 16  gears                11207 non-null  float64\n",
      " 17  age_of_car           14322 non-null  float64\n",
      " 18  Inspection           15919 non-null  object \n",
      " 19  warranty_            2057 non-null   float64\n",
      " 20  cons_comb            12160 non-null  float64\n",
      " 21  cons_city            13483 non-null  float64\n",
      " 22  cons_country         12584 non-null  float64\n",
      " 23  co2_emission6        13465 non-null  float64\n",
      " 24  Upholstery_Type      11048 non-null  object \n",
      "dtypes: float64(11), int64(2), object(12)\n",
      "memory usage: 3.0+ MB\n"
     ]
    }
   ],
   "source": [
    "df.info()"
   ]
  },
  {
   "cell_type": "code",
   "execution_count": 29,
   "metadata": {},
   "outputs": [
    {
     "data": {
      "image/png": "[encoded data removed]",
      "text/plain": [
       "<Figure size 432x288 with 1 Axes>"
      ]
     },
     "metadata": {
      "needs_background": "light"
     },
     "output_type": "display_data"
    }
   ],
   "source": [
    "df['price'].plot(kind='box');"
   ]
  },
  {
   "cell_type": "code",
   "execution_count": 44,
   "metadata": {},
   "outputs": [
    {
     "data": {
      "text/plain": [
       "(12850.0, 21900.0, 9050.0)"
      ]
     },
     "execution_count": 44,
     "metadata": {},
     "output_type": "execute_result"
    }
   ],
   "source": [
    "Q1 = df.price.quantile(0.25)\n",
    "Q3 = df.price.quantile(0.75)\n",
    "IQR = Q3 - Q1\n",
    "Q1, Q3,IQR"
   ]
  },
  {
   "cell_type": "code",
   "execution_count": 45,
   "metadata": {},
   "outputs": [
    {
     "data": {
      "text/plain": [
       "35475.0"
      ]
     },
     "execution_count": 45,
     "metadata": {},
     "output_type": "execute_result"
    }
   ],
   "source": [
    "Q3 + 1.5*IQR"
   ]
  },
  {
   "cell_type": "code",
   "execution_count": 46,
   "metadata": {},
   "outputs": [
    {
     "data": {
      "text/plain": [
       "-725.0"
      ]
     },
     "execution_count": 46,
     "metadata": {},
     "output_type": "execute_result"
    }
   ],
   "source": [
    "Q1 - 1.5*IQR"
   ]
  },
  {
   "cell_type": "code",
   "execution_count": 50,
   "metadata": {},
   "outputs": [
    {
     "data": {
      "text/html": [
       "<div>\n",
       "<style scoped>\n",
       "    .dataframe tbody tr th:only-of-type {\n",
       "        vertical-align: middle;\n",
       "    }\n",
       "\n",
       "    .dataframe tbody tr th {\n",
       "        vertical-align: top;\n",
       "    }\n",
       "\n",
       "    .dataframe thead th {\n",
       "        text-align: right;\n",
       "    }\n",
       "</style>\n",
       "<table border=\"1\" class=\"dataframe\">\n",
       "  <thead>\n",
       "    <tr style=\"text-align: right;\">\n",
       "      <th></th>\n",
       "      <th>Unnamed: 0</th>\n",
       "      <th>make_model</th>\n",
       "      <th>body_type</th>\n",
       "      <th>price</th>\n",
       "      <th>vat</th>\n",
       "      <th>km</th>\n",
       "      <th>hp</th>\n",
       "      <th>type</th>\n",
       "      <th>gearing_type</th>\n",
       "      <th>displacement</th>\n",
       "      <th>fuel</th>\n",
       "      <th>co2_emission</th>\n",
       "      <th>comfort&amp;convenience</th>\n",
       "      <th>entertainment&amp;media</th>\n",
       "      <th>extras</th>\n",
       "      <th>safety&amp;security</th>\n",
       "      <th>gears</th>\n",
       "      <th>age_of_car</th>\n",
       "      <th>Inspection</th>\n",
       "      <th>warranty_</th>\n",
       "      <th>cons_comb</th>\n",
       "      <th>cons_city</th>\n",
       "      <th>cons_country</th>\n",
       "      <th>co2_emission6</th>\n",
       "      <th>Upholstery_Type</th>\n",
       "    </tr>\n",
       "  </thead>\n",
       "  <tbody>\n",
       "    <tr>\n",
       "      <th>0</th>\n",
       "      <td>0</td>\n",
       "      <td>Audi A1</td>\n",
       "      <td>Sedans</td>\n",
       "      <td>15770</td>\n",
       "      <td>VAT deductible</td>\n",
       "      <td>56013.00</td>\n",
       "      <td>66.00</td>\n",
       "      <td>Used</td>\n",
       "      <td>Automatic</td>\n",
       "      <td>1422.00</td>\n",
       "      <td>Benzine</td>\n",
       "      <td>99.00</td>\n",
       "      <td>Air conditioning,Armrest,Automatic climate con...</td>\n",
       "      <td>['Bluetooth', 'Hands-free equipment', 'On-boar...</td>\n",
       "      <td>['Alloy wheels', 'Catalytic Converter', 'Voice...</td>\n",
       "      <td>['ABS', 'Central door lock', 'Daytime running ...</td>\n",
       "      <td>NaN</td>\n",
       "      <td>3.00</td>\n",
       "      <td>No</td>\n",
       "      <td>NaN</td>\n",
       "      <td>3.00</td>\n",
       "      <td>4.30</td>\n",
       "      <td>3.50</td>\n",
       "      <td>99.00</td>\n",
       "      <td>Cloth</td>\n",
       "    </tr>\n",
       "    <tr>\n",
       "      <th>1</th>\n",
       "      <td>1</td>\n",
       "      <td>Audi A1</td>\n",
       "      <td>Sedans</td>\n",
       "      <td>14500</td>\n",
       "      <td>Price negotiable</td>\n",
       "      <td>80000.00</td>\n",
       "      <td>141.00</td>\n",
       "      <td>Used</td>\n",
       "      <td>Automatic</td>\n",
       "      <td>1798.00</td>\n",
       "      <td>other_fuel</td>\n",
       "      <td>129.00</td>\n",
       "      <td>Air conditioning,Automatic climate control,Hil...</td>\n",
       "      <td>['Bluetooth', 'Hands-free equipment', 'On-boar...</td>\n",
       "      <td>['Alloy wheels', 'Sport seats', 'Sport suspens...</td>\n",
       "      <td>['ABS', 'Central door lock', 'Central door loc...</td>\n",
       "      <td>7.00</td>\n",
       "      <td>2.00</td>\n",
       "      <td>No</td>\n",
       "      <td>NaN</td>\n",
       "      <td>5.00</td>\n",
       "      <td>7.10</td>\n",
       "      <td>4.70</td>\n",
       "      <td>129.00</td>\n",
       "      <td>Cloth</td>\n",
       "    </tr>\n",
       "    <tr>\n",
       "      <th>2</th>\n",
       "      <td>2</td>\n",
       "      <td>Audi A1</td>\n",
       "      <td>Sedans</td>\n",
       "      <td>14640</td>\n",
       "      <td>VAT deductible</td>\n",
       "      <td>83450.00</td>\n",
       "      <td>85.00</td>\n",
       "      <td>Used</td>\n",
       "      <td>Automatic</td>\n",
       "      <td>1598.00</td>\n",
       "      <td>Benzine</td>\n",
       "      <td>99.00</td>\n",
       "      <td>Air conditioning,Cruise control,Electrical sid...</td>\n",
       "      <td>['MP3', 'On-board computer']</td>\n",
       "      <td>['Alloy wheels', 'Voice Control']</td>\n",
       "      <td>['ABS', 'Central door lock', 'Daytime running ...</td>\n",
       "      <td>NaN</td>\n",
       "      <td>3.00</td>\n",
       "      <td>No</td>\n",
       "      <td>NaN</td>\n",
       "      <td>3.00</td>\n",
       "      <td>4.40</td>\n",
       "      <td>3.40</td>\n",
       "      <td>99.00</td>\n",
       "      <td>Cloth</td>\n",
       "    </tr>\n",
       "    <tr>\n",
       "      <th>3</th>\n",
       "      <td>3</td>\n",
       "      <td>Audi A1</td>\n",
       "      <td>Sedans</td>\n",
       "      <td>14500</td>\n",
       "      <td>NaN</td>\n",
       "      <td>73000.00</td>\n",
       "      <td>66.00</td>\n",
       "      <td>Used</td>\n",
       "      <td>Automatic</td>\n",
       "      <td>1422.00</td>\n",
       "      <td>Benzine</td>\n",
       "      <td>99.00</td>\n",
       "      <td>Air suspension,Armrest,Auxiliary heating,Elect...</td>\n",
       "      <td>['Bluetooth', 'CD player', 'Hands-free equipme...</td>\n",
       "      <td>['Alloy wheels', 'Sport seats', 'Voice Control']</td>\n",
       "      <td>['ABS', 'Alarm system', 'Central door lock wit...</td>\n",
       "      <td>6.00</td>\n",
       "      <td>3.00</td>\n",
       "      <td>No</td>\n",
       "      <td>NaN</td>\n",
       "      <td>3.00</td>\n",
       "      <td>4.30</td>\n",
       "      <td>3.50</td>\n",
       "      <td>99.00</td>\n",
       "      <td>NaN</td>\n",
       "    </tr>\n",
       "    <tr>\n",
       "      <th>4</th>\n",
       "      <td>4</td>\n",
       "      <td>Audi A1</td>\n",
       "      <td>Sedans</td>\n",
       "      <td>16790</td>\n",
       "      <td>NaN</td>\n",
       "      <td>16200.00</td>\n",
       "      <td>66.00</td>\n",
       "      <td>Used</td>\n",
       "      <td>Automatic</td>\n",
       "      <td>1422.00</td>\n",
       "      <td>Benzine</td>\n",
       "      <td>109.00</td>\n",
       "      <td>Air conditioning,Armrest,Automatic climate con...</td>\n",
       "      <td>['Bluetooth', 'CD player', 'Hands-free equipme...</td>\n",
       "      <td>['Alloy wheels', 'Sport package', 'Sport suspe...</td>\n",
       "      <td>['ABS', 'Central door lock', 'Driver-side airb...</td>\n",
       "      <td>NaN</td>\n",
       "      <td>3.00</td>\n",
       "      <td>No</td>\n",
       "      <td>NaN</td>\n",
       "      <td>4.00</td>\n",
       "      <td>4.60</td>\n",
       "      <td>3.80</td>\n",
       "      <td>109.00</td>\n",
       "      <td>Cloth</td>\n",
       "    </tr>\n",
       "  </tbody>\n",
       "</table>\n",
       "</div>"
      ],
      "text/plain": [
       "   Unnamed: 0 make_model body_type  price               vat       km     hp  type gearing_type  displacement        fuel  co2_emission                                comfort&convenience                                entertainment&media                                             extras  \\\n",
       "0           0    Audi A1    Sedans  15770    VAT deductible 56013.00  66.00  Used    Automatic       1422.00     Benzine         99.00  Air conditioning,Armrest,Automatic climate con...  ['Bluetooth', 'Hands-free equipment', 'On-boar...  ['Alloy wheels', 'Catalytic Converter', 'Voice...   \n",
       "1           1    Audi A1    Sedans  14500  Price negotiable 80000.00 141.00  Used    Automatic       1798.00  other_fuel        129.00  Air conditioning,Automatic climate control,Hil...  ['Bluetooth', 'Hands-free equipment', 'On-boar...  ['Alloy wheels', 'Sport seats', 'Sport suspens...   \n",
       "2           2    Audi A1    Sedans  14640    VAT deductible 83450.00  85.00  Used    Automatic       1598.00     Benzine         99.00  Air conditioning,Cruise control,Electrical sid...                       ['MP3', 'On-board computer']                  ['Alloy wheels', 'Voice Control']   \n",
       "3           3    Audi A1    Sedans  14500               NaN 73000.00  66.00  Used    Automatic       1422.00     Benzine         99.00  Air suspension,Armrest,Auxiliary heating,Elect...  ['Bluetooth', 'CD player', 'Hands-free equipme...   ['Alloy wheels', 'Sport seats', 'Voice Control']   \n",
       "4           4    Audi A1    Sedans  16790               NaN 16200.00  66.00  Used    Automatic       1422.00     Benzine        109.00  Air conditioning,Armrest,Automatic climate con...  ['Bluetooth', 'CD player', 'Hands-free equipme...  ['Alloy wheels', 'Sport package', 'Sport suspe...   \n",
       "\n",
       "                                     safety&security  gears  age_of_car Inspection  warranty_  cons_comb  cons_city  cons_country  co2_emission6 Upholstery_Type  \n",
       "0  ['ABS', 'Central door lock', 'Daytime running ...    NaN        3.00         No        NaN       3.00       4.30          3.50          99.00           Cloth  \n",
       "1  ['ABS', 'Central door lock', 'Central door loc...   7.00        2.00         No        NaN       5.00       7.10          4.70         129.00           Cloth  \n",
       "2  ['ABS', 'Central door lock', 'Daytime running ...    NaN        3.00         No        NaN       3.00       4.40          3.40          99.00           Cloth  \n",
       "3  ['ABS', 'Alarm system', 'Central door lock wit...   6.00        3.00         No        NaN       3.00       4.30          3.50          99.00             NaN  \n",
       "4  ['ABS', 'Central door lock', 'Driver-side airb...    NaN        3.00         No        NaN       4.00       4.60          3.80         109.00           Cloth  "
      ]
     },
     "execution_count": 50,
     "metadata": {},
     "output_type": "execute_result"
    }
   ],
   "source": [
    "df=df[~((df['price']<(Q1 - 1.5*IQR)) | (df['price'] >(Q3 + 1.5*IQR)))]\n",
    "df.head()"
   ]
  },
  {
   "cell_type": "code",
   "execution_count": null,
   "metadata": {},
   "outputs": [],
   "source": []
  },
  {
   "cell_type": "code",
   "execution_count": 34,
   "metadata": {},
   "outputs": [
    {
     "data": {
      "image/png": "[encoded data removed]",
      "text/plain": [
       "<Figure size 432x288 with 1 Axes>"
      ]
     },
     "metadata": {
      "needs_background": "light"
     },
     "output_type": "display_data"
    }
   ],
   "source": [
    "df['km'].plot(kind='box');"
   ]
  },
  {
   "cell_type": "code",
   "execution_count": 35,
   "metadata": {},
   "outputs": [
    {
     "data": {
      "text/plain": [
       "(5153.0, 49371.5, 44218.5)"
      ]
     },
     "execution_count": 35,
     "metadata": {},
     "output_type": "execute_result"
    }
   ],
   "source": [
    "Q1 = df.km.quantile(0.25)\n",
    "Q3 = df.km.quantile(0.75)\n",
    "IQR = Q3 - Q1\n",
    "Q1, Q3,IQR"
   ]
  },
  {
   "cell_type": "code",
   "execution_count": 37,
   "metadata": {},
   "outputs": [
    {
     "data": {
      "text/plain": [
       "-61174.75"
      ]
     },
     "execution_count": 37,
     "metadata": {},
     "output_type": "execute_result"
    }
   ],
   "source": [
    "Q1 - 1.5*IQR\n"
   ]
  },
  {
   "cell_type": "code",
   "execution_count": 38,
   "metadata": {},
   "outputs": [
    {
     "data": {
      "text/plain": [
       "115699.25"
      ]
     },
     "execution_count": 38,
     "metadata": {},
     "output_type": "execute_result"
    }
   ],
   "source": [
    "Q3 + 1.5*IQR"
   ]
  },
  {
   "cell_type": "code",
   "execution_count": 52,
   "metadata": {},
   "outputs": [
    {
     "data": {
      "text/html": [
       "<div>\n",
       "<style scoped>\n",
       "    .dataframe tbody tr th:only-of-type {\n",
       "        vertical-align: middle;\n",
       "    }\n",
       "\n",
       "    .dataframe tbody tr th {\n",
       "        vertical-align: top;\n",
       "    }\n",
       "\n",
       "    .dataframe thead th {\n",
       "        text-align: right;\n",
       "    }\n",
       "</style>\n",
       "<table border=\"1\" class=\"dataframe\">\n",
       "  <thead>\n",
       "    <tr style=\"text-align: right;\">\n",
       "      <th></th>\n",
       "      <th>Unnamed: 0</th>\n",
       "      <th>make_model</th>\n",
       "      <th>body_type</th>\n",
       "      <th>price</th>\n",
       "      <th>vat</th>\n",
       "      <th>km</th>\n",
       "      <th>hp</th>\n",
       "      <th>type</th>\n",
       "      <th>gearing_type</th>\n",
       "      <th>displacement</th>\n",
       "      <th>fuel</th>\n",
       "      <th>co2_emission</th>\n",
       "      <th>comfort&amp;convenience</th>\n",
       "      <th>entertainment&amp;media</th>\n",
       "      <th>extras</th>\n",
       "      <th>safety&amp;security</th>\n",
       "      <th>gears</th>\n",
       "      <th>age_of_car</th>\n",
       "      <th>Inspection</th>\n",
       "      <th>warranty_</th>\n",
       "      <th>cons_comb</th>\n",
       "      <th>cons_city</th>\n",
       "      <th>cons_country</th>\n",
       "      <th>co2_emission6</th>\n",
       "      <th>Upholstery_Type</th>\n",
       "    </tr>\n",
       "  </thead>\n",
       "  <tbody>\n",
       "    <tr>\n",
       "      <th>4</th>\n",
       "      <td>4</td>\n",
       "      <td>Audi A1</td>\n",
       "      <td>Sedans</td>\n",
       "      <td>16790</td>\n",
       "      <td>NaN</td>\n",
       "      <td>16200.00</td>\n",
       "      <td>66.00</td>\n",
       "      <td>Used</td>\n",
       "      <td>Automatic</td>\n",
       "      <td>1422.00</td>\n",
       "      <td>Benzine</td>\n",
       "      <td>109.00</td>\n",
       "      <td>Air conditioning,Armrest,Automatic climate con...</td>\n",
       "      <td>['Bluetooth', 'CD player', 'Hands-free equipme...</td>\n",
       "      <td>['Alloy wheels', 'Sport package', 'Sport suspe...</td>\n",
       "      <td>['ABS', 'Central door lock', 'Driver-side airb...</td>\n",
       "      <td>NaN</td>\n",
       "      <td>3.00</td>\n",
       "      <td>No</td>\n",
       "      <td>NaN</td>\n",
       "      <td>4.00</td>\n",
       "      <td>4.60</td>\n",
       "      <td>3.80</td>\n",
       "      <td>109.00</td>\n",
       "      <td>Cloth</td>\n",
       "    </tr>\n",
       "    <tr>\n",
       "      <th>7</th>\n",
       "      <td>7</td>\n",
       "      <td>Audi A1</td>\n",
       "      <td>Compact</td>\n",
       "      <td>14480</td>\n",
       "      <td>VAT deductible</td>\n",
       "      <td>14986.00</td>\n",
       "      <td>66.00</td>\n",
       "      <td>Used</td>\n",
       "      <td>Automatic</td>\n",
       "      <td>1422.00</td>\n",
       "      <td>Benzine</td>\n",
       "      <td>97.00</td>\n",
       "      <td>Air conditioning,Armrest,Electrical side mirro...</td>\n",
       "      <td>['CD player', 'MP3', 'Radio']</td>\n",
       "      <td>['Alloy wheels']</td>\n",
       "      <td>['ABS', 'Central door lock', 'Daytime running ...</td>\n",
       "      <td>7.00</td>\n",
       "      <td>3.00</td>\n",
       "      <td>No</td>\n",
       "      <td>NaN</td>\n",
       "      <td>3.00</td>\n",
       "      <td>4.20</td>\n",
       "      <td>3.40</td>\n",
       "      <td>97.00</td>\n",
       "      <td>Cloth</td>\n",
       "    </tr>\n",
       "    <tr>\n",
       "      <th>9</th>\n",
       "      <td>9</td>\n",
       "      <td>Audi A1</td>\n",
       "      <td>Sedans</td>\n",
       "      <td>17990</td>\n",
       "      <td>NaN</td>\n",
       "      <td>16103.00</td>\n",
       "      <td>70.00</td>\n",
       "      <td>Used</td>\n",
       "      <td>Automatic</td>\n",
       "      <td>999.00</td>\n",
       "      <td>other_fuel</td>\n",
       "      <td>NaN</td>\n",
       "      <td>NaN</td>\n",
       "      <td>NaN</td>\n",
       "      <td>NaN</td>\n",
       "      <td>NaN</td>\n",
       "      <td>7.00</td>\n",
       "      <td>2.00</td>\n",
       "      <td>No</td>\n",
       "      <td>3.00</td>\n",
       "      <td>NaN</td>\n",
       "      <td>NaN</td>\n",
       "      <td>NaN</td>\n",
       "      <td>NaN</td>\n",
       "      <td>NaN</td>\n",
       "    </tr>\n",
       "    <tr>\n",
       "      <th>10</th>\n",
       "      <td>10</td>\n",
       "      <td>Audi A1</td>\n",
       "      <td>Sedans</td>\n",
       "      <td>18500</td>\n",
       "      <td>VAT deductible</td>\n",
       "      <td>11300.00</td>\n",
       "      <td>85.00</td>\n",
       "      <td>Used</td>\n",
       "      <td>Automatic</td>\n",
       "      <td>1598.00</td>\n",
       "      <td>Benzine</td>\n",
       "      <td>105.00</td>\n",
       "      <td>Air conditioning,Multi-function steering wheel...</td>\n",
       "      <td>['Bluetooth', 'CD player', 'Hands-free equipme...</td>\n",
       "      <td>['Alloy wheels', 'Shift paddles']</td>\n",
       "      <td>['ABS', 'Central door lock', 'Daytime running ...</td>\n",
       "      <td>7.00</td>\n",
       "      <td>1.00</td>\n",
       "      <td>No</td>\n",
       "      <td>NaN</td>\n",
       "      <td>NaN</td>\n",
       "      <td>4.60</td>\n",
       "      <td>3.60</td>\n",
       "      <td>105.00</td>\n",
       "      <td>Cloth</td>\n",
       "    </tr>\n",
       "    <tr>\n",
       "      <th>11</th>\n",
       "      <td>11</td>\n",
       "      <td>Audi A1</td>\n",
       "      <td>Sedans</td>\n",
       "      <td>17990</td>\n",
       "      <td>NaN</td>\n",
       "      <td>26415.00</td>\n",
       "      <td>92.00</td>\n",
       "      <td>Used</td>\n",
       "      <td>Automatic</td>\n",
       "      <td>1395.00</td>\n",
       "      <td>other_fuel</td>\n",
       "      <td>112.00</td>\n",
       "      <td>Air conditioning,Automatic climate control,Ele...</td>\n",
       "      <td>['CD player', 'Hands-free equipment', 'On-boar...</td>\n",
       "      <td>['Alloy wheels', 'Sport seats']</td>\n",
       "      <td>['ABS', 'Central door lock', 'Daytime running ...</td>\n",
       "      <td>NaN</td>\n",
       "      <td>3.00</td>\n",
       "      <td>No</td>\n",
       "      <td>NaN</td>\n",
       "      <td>4.00</td>\n",
       "      <td>6.20</td>\n",
       "      <td>4.20</td>\n",
       "      <td>112.00</td>\n",
       "      <td>Cloth</td>\n",
       "    </tr>\n",
       "  </tbody>\n",
       "</table>\n",
       "</div>"
      ],
      "text/plain": [
       "    Unnamed: 0 make_model body_type  price             vat       km    hp  type gearing_type  displacement        fuel  co2_emission                                comfort&convenience                                entertainment&media                                             extras  \\\n",
       "4            4    Audi A1    Sedans  16790             NaN 16200.00 66.00  Used    Automatic       1422.00     Benzine        109.00  Air conditioning,Armrest,Automatic climate con...  ['Bluetooth', 'CD player', 'Hands-free equipme...  ['Alloy wheels', 'Sport package', 'Sport suspe...   \n",
       "7            7    Audi A1   Compact  14480  VAT deductible 14986.00 66.00  Used    Automatic       1422.00     Benzine         97.00  Air conditioning,Armrest,Electrical side mirro...                      ['CD player', 'MP3', 'Radio']                                   ['Alloy wheels']   \n",
       "9            9    Audi A1    Sedans  17990             NaN 16103.00 70.00  Used    Automatic        999.00  other_fuel           NaN                                                NaN                                                NaN                                                NaN   \n",
       "10          10    Audi A1    Sedans  18500  VAT deductible 11300.00 85.00  Used    Automatic       1598.00     Benzine        105.00  Air conditioning,Multi-function steering wheel...  ['Bluetooth', 'CD player', 'Hands-free equipme...                  ['Alloy wheels', 'Shift paddles']   \n",
       "11          11    Audi A1    Sedans  17990             NaN 26415.00 92.00  Used    Automatic       1395.00  other_fuel        112.00  Air conditioning,Automatic climate control,Ele...  ['CD player', 'Hands-free equipment', 'On-boar...                    ['Alloy wheels', 'Sport seats']   \n",
       "\n",
       "                                      safety&security  gears  age_of_car Inspection  warranty_  cons_comb  cons_city  cons_country  co2_emission6 Upholstery_Type  \n",
       "4   ['ABS', 'Central door lock', 'Driver-side airb...    NaN        3.00         No        NaN       4.00       4.60          3.80         109.00           Cloth  \n",
       "7   ['ABS', 'Central door lock', 'Daytime running ...   7.00        3.00         No        NaN       3.00       4.20          3.40          97.00           Cloth  \n",
       "9                                                 NaN   7.00        2.00         No       3.00        NaN        NaN           NaN            NaN             NaN  \n",
       "10  ['ABS', 'Central door lock', 'Daytime running ...   7.00        1.00         No        NaN        NaN       4.60          3.60         105.00           Cloth  \n",
       "11  ['ABS', 'Central door lock', 'Daytime running ...    NaN        3.00         No        NaN       4.00       6.20          4.20         112.00           Cloth  "
      ]
     },
     "execution_count": 52,
     "metadata": {},
     "output_type": "execute_result"
    }
   ],
   "source": [
    "df=df[~((df['km']<(Q1 - 1.5*IQR)) | (df['km'] >(Q3 + 1.5*IQR)))]\n",
    "df.head()"
   ]
  },
  {
   "cell_type": "code",
   "execution_count": null,
   "metadata": {},
   "outputs": [],
   "source": []
  },
  {
   "cell_type": "code",
   "execution_count": 40,
   "metadata": {},
   "outputs": [
    {
     "data": {
      "image/png": "[encoded data removed]",
      "text/plain": [
       "<Figure size 432x288 with 1 Axes>"
      ]
     },
     "metadata": {
      "needs_background": "light"
     },
     "output_type": "display_data"
    }
   ],
   "source": [
    "df['hp'].plot(kind='box');"
   ]
  },
  {
   "cell_type": "code",
   "execution_count": 53,
   "metadata": {},
   "outputs": [
    {
     "data": {
      "text/plain": [
       "(150.0, 23000.0, 22850.0)"
      ]
     },
     "execution_count": 53,
     "metadata": {},
     "output_type": "execute_result"
    }
   ],
   "source": [
    "Q1 = df.hp.quantile(0.25)\n",
    "Q3 = df.hp.quantile(0.75)\n",
    "IQR = Q3 - Q1\n",
    "Q1, Q3,IQR"
   ]
  },
  {
   "cell_type": "code",
   "execution_count": 56,
   "metadata": {},
   "outputs": [
    {
     "data": {
      "text/html": [
       "<div>\n",
       "<style scoped>\n",
       "    .dataframe tbody tr th:only-of-type {\n",
       "        vertical-align: middle;\n",
       "    }\n",
       "\n",
       "    .dataframe tbody tr th {\n",
       "        vertical-align: top;\n",
       "    }\n",
       "\n",
       "    .dataframe thead th {\n",
       "        text-align: right;\n",
       "    }\n",
       "</style>\n",
       "<table border=\"1\" class=\"dataframe\">\n",
       "  <thead>\n",
       "    <tr style=\"text-align: right;\">\n",
       "      <th></th>\n",
       "      <th>Unnamed: 0</th>\n",
       "      <th>make_model</th>\n",
       "      <th>body_type</th>\n",
       "      <th>price</th>\n",
       "      <th>vat</th>\n",
       "      <th>km</th>\n",
       "      <th>hp</th>\n",
       "      <th>type</th>\n",
       "      <th>gearing_type</th>\n",
       "      <th>displacement</th>\n",
       "      <th>fuel</th>\n",
       "      <th>co2_emission</th>\n",
       "      <th>comfort&amp;convenience</th>\n",
       "      <th>entertainment&amp;media</th>\n",
       "      <th>extras</th>\n",
       "      <th>safety&amp;security</th>\n",
       "      <th>gears</th>\n",
       "      <th>age_of_car</th>\n",
       "      <th>Inspection</th>\n",
       "      <th>warranty_</th>\n",
       "      <th>cons_comb</th>\n",
       "      <th>cons_city</th>\n",
       "      <th>cons_country</th>\n",
       "      <th>co2_emission6</th>\n",
       "      <th>Upholstery_Type</th>\n",
       "    </tr>\n",
       "  </thead>\n",
       "  <tbody>\n",
       "    <tr>\n",
       "      <th>4</th>\n",
       "      <td>4</td>\n",
       "      <td>Audi A1</td>\n",
       "      <td>Sedans</td>\n",
       "      <td>16790</td>\n",
       "      <td>NaN</td>\n",
       "      <td>16200.00</td>\n",
       "      <td>66.00</td>\n",
       "      <td>Used</td>\n",
       "      <td>Automatic</td>\n",
       "      <td>1422.00</td>\n",
       "      <td>Benzine</td>\n",
       "      <td>109.00</td>\n",
       "      <td>Air conditioning,Armrest,Automatic climate con...</td>\n",
       "      <td>['Bluetooth', 'CD player', 'Hands-free equipme...</td>\n",
       "      <td>['Alloy wheels', 'Sport package', 'Sport suspe...</td>\n",
       "      <td>['ABS', 'Central door lock', 'Driver-side airb...</td>\n",
       "      <td>NaN</td>\n",
       "      <td>3.00</td>\n",
       "      <td>No</td>\n",
       "      <td>NaN</td>\n",
       "      <td>4.00</td>\n",
       "      <td>4.60</td>\n",
       "      <td>3.80</td>\n",
       "      <td>109.00</td>\n",
       "      <td>Cloth</td>\n",
       "    </tr>\n",
       "    <tr>\n",
       "      <th>7</th>\n",
       "      <td>7</td>\n",
       "      <td>Audi A1</td>\n",
       "      <td>Compact</td>\n",
       "      <td>14480</td>\n",
       "      <td>VAT deductible</td>\n",
       "      <td>14986.00</td>\n",
       "      <td>66.00</td>\n",
       "      <td>Used</td>\n",
       "      <td>Automatic</td>\n",
       "      <td>1422.00</td>\n",
       "      <td>Benzine</td>\n",
       "      <td>97.00</td>\n",
       "      <td>Air conditioning,Armrest,Electrical side mirro...</td>\n",
       "      <td>['CD player', 'MP3', 'Radio']</td>\n",
       "      <td>['Alloy wheels']</td>\n",
       "      <td>['ABS', 'Central door lock', 'Daytime running ...</td>\n",
       "      <td>7.00</td>\n",
       "      <td>3.00</td>\n",
       "      <td>No</td>\n",
       "      <td>NaN</td>\n",
       "      <td>3.00</td>\n",
       "      <td>4.20</td>\n",
       "      <td>3.40</td>\n",
       "      <td>97.00</td>\n",
       "      <td>Cloth</td>\n",
       "    </tr>\n",
       "    <tr>\n",
       "      <th>9</th>\n",
       "      <td>9</td>\n",
       "      <td>Audi A1</td>\n",
       "      <td>Sedans</td>\n",
       "      <td>17990</td>\n",
       "      <td>NaN</td>\n",
       "      <td>16103.00</td>\n",
       "      <td>70.00</td>\n",
       "      <td>Used</td>\n",
       "      <td>Automatic</td>\n",
       "      <td>999.00</td>\n",
       "      <td>other_fuel</td>\n",
       "      <td>NaN</td>\n",
       "      <td>NaN</td>\n",
       "      <td>NaN</td>\n",
       "      <td>NaN</td>\n",
       "      <td>NaN</td>\n",
       "      <td>7.00</td>\n",
       "      <td>2.00</td>\n",
       "      <td>No</td>\n",
       "      <td>3.00</td>\n",
       "      <td>NaN</td>\n",
       "      <td>NaN</td>\n",
       "      <td>NaN</td>\n",
       "      <td>NaN</td>\n",
       "      <td>NaN</td>\n",
       "    </tr>\n",
       "    <tr>\n",
       "      <th>10</th>\n",
       "      <td>10</td>\n",
       "      <td>Audi A1</td>\n",
       "      <td>Sedans</td>\n",
       "      <td>18500</td>\n",
       "      <td>VAT deductible</td>\n",
       "      <td>11300.00</td>\n",
       "      <td>85.00</td>\n",
       "      <td>Used</td>\n",
       "      <td>Automatic</td>\n",
       "      <td>1598.00</td>\n",
       "      <td>Benzine</td>\n",
       "      <td>105.00</td>\n",
       "      <td>Air conditioning,Multi-function steering wheel...</td>\n",
       "      <td>['Bluetooth', 'CD player', 'Hands-free equipme...</td>\n",
       "      <td>['Alloy wheels', 'Shift paddles']</td>\n",
       "      <td>['ABS', 'Central door lock', 'Daytime running ...</td>\n",
       "      <td>7.00</td>\n",
       "      <td>1.00</td>\n",
       "      <td>No</td>\n",
       "      <td>NaN</td>\n",
       "      <td>NaN</td>\n",
       "      <td>4.60</td>\n",
       "      <td>3.60</td>\n",
       "      <td>105.00</td>\n",
       "      <td>Cloth</td>\n",
       "    </tr>\n",
       "    <tr>\n",
       "      <th>11</th>\n",
       "      <td>11</td>\n",
       "      <td>Audi A1</td>\n",
       "      <td>Sedans</td>\n",
       "      <td>17990</td>\n",
       "      <td>NaN</td>\n",
       "      <td>26415.00</td>\n",
       "      <td>92.00</td>\n",
       "      <td>Used</td>\n",
       "      <td>Automatic</td>\n",
       "      <td>1395.00</td>\n",
       "      <td>other_fuel</td>\n",
       "      <td>112.00</td>\n",
       "      <td>Air conditioning,Automatic climate control,Ele...</td>\n",
       "      <td>['CD player', 'Hands-free equipment', 'On-boar...</td>\n",
       "      <td>['Alloy wheels', 'Sport seats']</td>\n",
       "      <td>['ABS', 'Central door lock', 'Daytime running ...</td>\n",
       "      <td>NaN</td>\n",
       "      <td>3.00</td>\n",
       "      <td>No</td>\n",
       "      <td>NaN</td>\n",
       "      <td>4.00</td>\n",
       "      <td>6.20</td>\n",
       "      <td>4.20</td>\n",
       "      <td>112.00</td>\n",
       "      <td>Cloth</td>\n",
       "    </tr>\n",
       "  </tbody>\n",
       "</table>\n",
       "</div>"
      ],
      "text/plain": [
       "    Unnamed: 0 make_model body_type  price             vat       km    hp  type gearing_type  displacement        fuel  co2_emission                                comfort&convenience                                entertainment&media                                             extras  \\\n",
       "4            4    Audi A1    Sedans  16790             NaN 16200.00 66.00  Used    Automatic       1422.00     Benzine        109.00  Air conditioning,Armrest,Automatic climate con...  ['Bluetooth', 'CD player', 'Hands-free equipme...  ['Alloy wheels', 'Sport package', 'Sport suspe...   \n",
       "7            7    Audi A1   Compact  14480  VAT deductible 14986.00 66.00  Used    Automatic       1422.00     Benzine         97.00  Air conditioning,Armrest,Electrical side mirro...                      ['CD player', 'MP3', 'Radio']                                   ['Alloy wheels']   \n",
       "9            9    Audi A1    Sedans  17990             NaN 16103.00 70.00  Used    Automatic        999.00  other_fuel           NaN                                                NaN                                                NaN                                                NaN   \n",
       "10          10    Audi A1    Sedans  18500  VAT deductible 11300.00 85.00  Used    Automatic       1598.00     Benzine        105.00  Air conditioning,Multi-function steering wheel...  ['Bluetooth', 'CD player', 'Hands-free equipme...                  ['Alloy wheels', 'Shift paddles']   \n",
       "11          11    Audi A1    Sedans  17990             NaN 26415.00 92.00  Used    Automatic       1395.00  other_fuel        112.00  Air conditioning,Automatic climate control,Ele...  ['CD player', 'Hands-free equipment', 'On-boar...                    ['Alloy wheels', 'Sport seats']   \n",
       "\n",
       "                                      safety&security  gears  age_of_car Inspection  warranty_  cons_comb  cons_city  cons_country  co2_emission6 Upholstery_Type  \n",
       "4   ['ABS', 'Central door lock', 'Driver-side airb...    NaN        3.00         No        NaN       4.00       4.60          3.80         109.00           Cloth  \n",
       "7   ['ABS', 'Central door lock', 'Daytime running ...   7.00        3.00         No        NaN       3.00       4.20          3.40          97.00           Cloth  \n",
       "9                                                 NaN   7.00        2.00         No       3.00        NaN        NaN           NaN            NaN             NaN  \n",
       "10  ['ABS', 'Central door lock', 'Daytime running ...   7.00        1.00         No        NaN        NaN       4.60          3.60         105.00           Cloth  \n",
       "11  ['ABS', 'Central door lock', 'Daytime running ...    NaN        3.00         No        NaN       4.00       6.20          4.20         112.00           Cloth  "
      ]
     },
     "execution_count": 56,
     "metadata": {},
     "output_type": "execute_result"
    }
   ],
   "source": [
    "df=df[~((df['hp']<(Q1 - 1.5*IQR)) | (df['hp'] >(Q3 + 1.5*IQR)))]\n",
    "df.head()"
   ]
  },
  {
   "cell_type": "code",
   "execution_count": 57,
   "metadata": {},
   "outputs": [
    {
     "data": {
      "image/png": "[encoded data removed]",
      "text/plain": [
       "<Figure size 432x288 with 1 Axes>"
      ]
     },
     "metadata": {
      "needs_background": "light"
     },
     "output_type": "display_data"
    }
   ],
   "source": [
    "df['hp'].plot(kind='box');"
   ]
  },
  {
   "cell_type": "code",
   "execution_count": 41,
   "metadata": {},
   "outputs": [
    {
     "data": {
      "image/png": "[encoded data removed]",
      "text/plain": [
       "<Figure size 432x288 with 1 Axes>"
      ]
     },
     "metadata": {
      "needs_background": "light"
     },
     "output_type": "display_data"
    }
   ],
   "source": [
    "df['displacement'].plot(kind='box');"
   ]
  },
  {
   "cell_type": "code",
   "execution_count": 58,
   "metadata": {},
   "outputs": [
    {
     "data": {
      "text/plain": [
       "(999.0, 1598.0, 599.0)"
      ]
     },
     "execution_count": 58,
     "metadata": {},
     "output_type": "execute_result"
    }
   ],
   "source": [
    "Q1 = df.displacement.quantile(0.25)\n",
    "Q3 = df.displacement.quantile(0.75)\n",
    "IQR = Q3 - Q1\n",
    "Q1, Q3,IQR"
   ]
  },
  {
   "cell_type": "code",
   "execution_count": 59,
   "metadata": {},
   "outputs": [
    {
     "data": {
      "text/html": [
       "<div>\n",
       "<style scoped>\n",
       "    .dataframe tbody tr th:only-of-type {\n",
       "        vertical-align: middle;\n",
       "    }\n",
       "\n",
       "    .dataframe tbody tr th {\n",
       "        vertical-align: top;\n",
       "    }\n",
       "\n",
       "    .dataframe thead th {\n",
       "        text-align: right;\n",
       "    }\n",
       "</style>\n",
       "<table border=\"1\" class=\"dataframe\">\n",
       "  <thead>\n",
       "    <tr style=\"text-align: right;\">\n",
       "      <th></th>\n",
       "      <th>Unnamed: 0</th>\n",
       "      <th>make_model</th>\n",
       "      <th>body_type</th>\n",
       "      <th>price</th>\n",
       "      <th>vat</th>\n",
       "      <th>km</th>\n",
       "      <th>hp</th>\n",
       "      <th>type</th>\n",
       "      <th>gearing_type</th>\n",
       "      <th>displacement</th>\n",
       "      <th>fuel</th>\n",
       "      <th>co2_emission</th>\n",
       "      <th>comfort&amp;convenience</th>\n",
       "      <th>entertainment&amp;media</th>\n",
       "      <th>extras</th>\n",
       "      <th>safety&amp;security</th>\n",
       "      <th>gears</th>\n",
       "      <th>age_of_car</th>\n",
       "      <th>Inspection</th>\n",
       "      <th>warranty_</th>\n",
       "      <th>cons_comb</th>\n",
       "      <th>cons_city</th>\n",
       "      <th>cons_country</th>\n",
       "      <th>co2_emission6</th>\n",
       "      <th>Upholstery_Type</th>\n",
       "    </tr>\n",
       "  </thead>\n",
       "  <tbody>\n",
       "    <tr>\n",
       "      <th>4</th>\n",
       "      <td>4</td>\n",
       "      <td>Audi A1</td>\n",
       "      <td>Sedans</td>\n",
       "      <td>16790</td>\n",
       "      <td>NaN</td>\n",
       "      <td>16200.00</td>\n",
       "      <td>66.00</td>\n",
       "      <td>Used</td>\n",
       "      <td>Automatic</td>\n",
       "      <td>1422.00</td>\n",
       "      <td>Benzine</td>\n",
       "      <td>109.00</td>\n",
       "      <td>Air conditioning,Armrest,Automatic climate con...</td>\n",
       "      <td>['Bluetooth', 'CD player', 'Hands-free equipme...</td>\n",
       "      <td>['Alloy wheels', 'Sport package', 'Sport suspe...</td>\n",
       "      <td>['ABS', 'Central door lock', 'Driver-side airb...</td>\n",
       "      <td>NaN</td>\n",
       "      <td>3.00</td>\n",
       "      <td>No</td>\n",
       "      <td>NaN</td>\n",
       "      <td>4.00</td>\n",
       "      <td>4.60</td>\n",
       "      <td>3.80</td>\n",
       "      <td>109.00</td>\n",
       "      <td>Cloth</td>\n",
       "    </tr>\n",
       "    <tr>\n",
       "      <th>7</th>\n",
       "      <td>7</td>\n",
       "      <td>Audi A1</td>\n",
       "      <td>Compact</td>\n",
       "      <td>14480</td>\n",
       "      <td>VAT deductible</td>\n",
       "      <td>14986.00</td>\n",
       "      <td>66.00</td>\n",
       "      <td>Used</td>\n",
       "      <td>Automatic</td>\n",
       "      <td>1422.00</td>\n",
       "      <td>Benzine</td>\n",
       "      <td>97.00</td>\n",
       "      <td>Air conditioning,Armrest,Electrical side mirro...</td>\n",
       "      <td>['CD player', 'MP3', 'Radio']</td>\n",
       "      <td>['Alloy wheels']</td>\n",
       "      <td>['ABS', 'Central door lock', 'Daytime running ...</td>\n",
       "      <td>7.00</td>\n",
       "      <td>3.00</td>\n",
       "      <td>No</td>\n",
       "      <td>NaN</td>\n",
       "      <td>3.00</td>\n",
       "      <td>4.20</td>\n",
       "      <td>3.40</td>\n",
       "      <td>97.00</td>\n",
       "      <td>Cloth</td>\n",
       "    </tr>\n",
       "    <tr>\n",
       "      <th>9</th>\n",
       "      <td>9</td>\n",
       "      <td>Audi A1</td>\n",
       "      <td>Sedans</td>\n",
       "      <td>17990</td>\n",
       "      <td>NaN</td>\n",
       "      <td>16103.00</td>\n",
       "      <td>70.00</td>\n",
       "      <td>Used</td>\n",
       "      <td>Automatic</td>\n",
       "      <td>999.00</td>\n",
       "      <td>other_fuel</td>\n",
       "      <td>NaN</td>\n",
       "      <td>NaN</td>\n",
       "      <td>NaN</td>\n",
       "      <td>NaN</td>\n",
       "      <td>NaN</td>\n",
       "      <td>7.00</td>\n",
       "      <td>2.00</td>\n",
       "      <td>No</td>\n",
       "      <td>3.00</td>\n",
       "      <td>NaN</td>\n",
       "      <td>NaN</td>\n",
       "      <td>NaN</td>\n",
       "      <td>NaN</td>\n",
       "      <td>NaN</td>\n",
       "    </tr>\n",
       "    <tr>\n",
       "      <th>10</th>\n",
       "      <td>10</td>\n",
       "      <td>Audi A1</td>\n",
       "      <td>Sedans</td>\n",
       "      <td>18500</td>\n",
       "      <td>VAT deductible</td>\n",
       "      <td>11300.00</td>\n",
       "      <td>85.00</td>\n",
       "      <td>Used</td>\n",
       "      <td>Automatic</td>\n",
       "      <td>1598.00</td>\n",
       "      <td>Benzine</td>\n",
       "      <td>105.00</td>\n",
       "      <td>Air conditioning,Multi-function steering wheel...</td>\n",
       "      <td>['Bluetooth', 'CD player', 'Hands-free equipme...</td>\n",
       "      <td>['Alloy wheels', 'Shift paddles']</td>\n",
       "      <td>['ABS', 'Central door lock', 'Daytime running ...</td>\n",
       "      <td>7.00</td>\n",
       "      <td>1.00</td>\n",
       "      <td>No</td>\n",
       "      <td>NaN</td>\n",
       "      <td>NaN</td>\n",
       "      <td>4.60</td>\n",
       "      <td>3.60</td>\n",
       "      <td>105.00</td>\n",
       "      <td>Cloth</td>\n",
       "    </tr>\n",
       "    <tr>\n",
       "      <th>11</th>\n",
       "      <td>11</td>\n",
       "      <td>Audi A1</td>\n",
       "      <td>Sedans</td>\n",
       "      <td>17990</td>\n",
       "      <td>NaN</td>\n",
       "      <td>26415.00</td>\n",
       "      <td>92.00</td>\n",
       "      <td>Used</td>\n",
       "      <td>Automatic</td>\n",
       "      <td>1395.00</td>\n",
       "      <td>other_fuel</td>\n",
       "      <td>112.00</td>\n",
       "      <td>Air conditioning,Automatic climate control,Ele...</td>\n",
       "      <td>['CD player', 'Hands-free equipment', 'On-boar...</td>\n",
       "      <td>['Alloy wheels', 'Sport seats']</td>\n",
       "      <td>['ABS', 'Central door lock', 'Daytime running ...</td>\n",
       "      <td>NaN</td>\n",
       "      <td>3.00</td>\n",
       "      <td>No</td>\n",
       "      <td>NaN</td>\n",
       "      <td>4.00</td>\n",
       "      <td>6.20</td>\n",
       "      <td>4.20</td>\n",
       "      <td>112.00</td>\n",
       "      <td>Cloth</td>\n",
       "    </tr>\n",
       "  </tbody>\n",
       "</table>\n",
       "</div>"
      ],
      "text/plain": [
       "    Unnamed: 0 make_model body_type  price             vat       km    hp  type gearing_type  displacement        fuel  co2_emission                                comfort&convenience                                entertainment&media                                             extras  \\\n",
       "4            4    Audi A1    Sedans  16790             NaN 16200.00 66.00  Used    Automatic       1422.00     Benzine        109.00  Air conditioning,Armrest,Automatic climate con...  ['Bluetooth', 'CD player', 'Hands-free equipme...  ['Alloy wheels', 'Sport package', 'Sport suspe...   \n",
       "7            7    Audi A1   Compact  14480  VAT deductible 14986.00 66.00  Used    Automatic       1422.00     Benzine         97.00  Air conditioning,Armrest,Electrical side mirro...                      ['CD player', 'MP3', 'Radio']                                   ['Alloy wheels']   \n",
       "9            9    Audi A1    Sedans  17990             NaN 16103.00 70.00  Used    Automatic        999.00  other_fuel           NaN                                                NaN                                                NaN                                                NaN   \n",
       "10          10    Audi A1    Sedans  18500  VAT deductible 11300.00 85.00  Used    Automatic       1598.00     Benzine        105.00  Air conditioning,Multi-function steering wheel...  ['Bluetooth', 'CD player', 'Hands-free equipme...                  ['Alloy wheels', 'Shift paddles']   \n",
       "11          11    Audi A1    Sedans  17990             NaN 26415.00 92.00  Used    Automatic       1395.00  other_fuel        112.00  Air conditioning,Automatic climate control,Ele...  ['CD player', 'Hands-free equipment', 'On-boar...                    ['Alloy wheels', 'Sport seats']   \n",
       "\n",
       "                                      safety&security  gears  age_of_car Inspection  warranty_  cons_comb  cons_city  cons_country  co2_emission6 Upholstery_Type  \n",
       "4   ['ABS', 'Central door lock', 'Driver-side airb...    NaN        3.00         No        NaN       4.00       4.60          3.80         109.00           Cloth  \n",
       "7   ['ABS', 'Central door lock', 'Daytime running ...   7.00        3.00         No        NaN       3.00       4.20          3.40          97.00           Cloth  \n",
       "9                                                 NaN   7.00        2.00         No       3.00        NaN        NaN           NaN            NaN             NaN  \n",
       "10  ['ABS', 'Central door lock', 'Daytime running ...   7.00        1.00         No        NaN        NaN       4.60          3.60         105.00           Cloth  \n",
       "11  ['ABS', 'Central door lock', 'Daytime running ...    NaN        3.00         No        NaN       4.00       6.20          4.20         112.00           Cloth  "
      ]
     },
     "execution_count": 59,
     "metadata": {},
     "output_type": "execute_result"
    }
   ],
   "source": [
    "df=df[~((df['displacement']<(Q1 - 1.5*IQR)) | (df['displacement'] >(Q3 + 1.5*IQR)))]\n",
    "df.head()"
   ]
  },
  {
   "cell_type": "code",
   "execution_count": 60,
   "metadata": {},
   "outputs": [
    {
     "data": {
      "image/png": "[encoded data removed]",
      "text/plain": [
       "<Figure size 432x288 with 1 Axes>"
      ]
     },
     "metadata": {
      "needs_background": "light"
     },
     "output_type": "display_data"
    }
   ],
   "source": [
    "df['displacement'].plot(kind='box');"
   ]
  },
  {
   "cell_type": "code",
   "execution_count": 62,
   "metadata": {},
   "outputs": [
    {
     "data": {
      "image/png": "[encoded data removed]",
      "text/plain": [
       "<Figure size 432x288 with 1 Axes>"
      ]
     },
     "metadata": {
      "needs_background": "light"
     },
     "output_type": "display_data"
    }
   ],
   "source": [
    "df['co2_emission'].plot(kind='box');"
   ]
  },
  {
   "cell_type": "code",
   "execution_count": 61,
   "metadata": {},
   "outputs": [
    {
     "data": {
      "text/plain": [
       "(106.0, 130.0, 24.0)"
      ]
     },
     "execution_count": 61,
     "metadata": {},
     "output_type": "execute_result"
    }
   ],
   "source": [
    "Q1 = df.co2_emission.quantile(0.25)\n",
    "Q3 = df.co2_emission.quantile(0.75)\n",
    "IQR = Q3 - Q1\n",
    "Q1, Q3,IQR"
   ]
  },
  {
   "cell_type": "code",
   "execution_count": 63,
   "metadata": {},
   "outputs": [
    {
     "data": {
      "text/html": [
       "<div>\n",
       "<style scoped>\n",
       "    .dataframe tbody tr th:only-of-type {\n",
       "        vertical-align: middle;\n",
       "    }\n",
       "\n",
       "    .dataframe tbody tr th {\n",
       "        vertical-align: top;\n",
       "    }\n",
       "\n",
       "    .dataframe thead th {\n",
       "        text-align: right;\n",
       "    }\n",
       "</style>\n",
       "<table border=\"1\" class=\"dataframe\">\n",
       "  <thead>\n",
       "    <tr style=\"text-align: right;\">\n",
       "      <th></th>\n",
       "      <th>Unnamed: 0</th>\n",
       "      <th>make_model</th>\n",
       "      <th>body_type</th>\n",
       "      <th>price</th>\n",
       "      <th>vat</th>\n",
       "      <th>km</th>\n",
       "      <th>hp</th>\n",
       "      <th>type</th>\n",
       "      <th>gearing_type</th>\n",
       "      <th>displacement</th>\n",
       "      <th>fuel</th>\n",
       "      <th>co2_emission</th>\n",
       "      <th>comfort&amp;convenience</th>\n",
       "      <th>entertainment&amp;media</th>\n",
       "      <th>extras</th>\n",
       "      <th>safety&amp;security</th>\n",
       "      <th>gears</th>\n",
       "      <th>age_of_car</th>\n",
       "      <th>Inspection</th>\n",
       "      <th>warranty_</th>\n",
       "      <th>cons_comb</th>\n",
       "      <th>cons_city</th>\n",
       "      <th>cons_country</th>\n",
       "      <th>co2_emission6</th>\n",
       "      <th>Upholstery_Type</th>\n",
       "    </tr>\n",
       "  </thead>\n",
       "  <tbody>\n",
       "    <tr>\n",
       "      <th>142</th>\n",
       "      <td>142</td>\n",
       "      <td>Audi A1</td>\n",
       "      <td>Sedans</td>\n",
       "      <td>18200</td>\n",
       "      <td>VAT deductible</td>\n",
       "      <td>16500.00</td>\n",
       "      <td>85.00</td>\n",
       "      <td>Used</td>\n",
       "      <td>Automatic</td>\n",
       "      <td>NaN</td>\n",
       "      <td>Benzine</td>\n",
       "      <td>NaN</td>\n",
       "      <td>Air conditioning,Air suspension,Armrest,Automa...</td>\n",
       "      <td>['Bluetooth', 'CD player', 'Digital radio', 'H...</td>\n",
       "      <td>['Alloy wheels', 'Catalytic Converter', 'Shift...</td>\n",
       "      <td>['ABS', 'Adaptive Cruise Control', 'Adaptive h...</td>\n",
       "      <td>6.00</td>\n",
       "      <td>1.00</td>\n",
       "      <td>No</td>\n",
       "      <td>NaN</td>\n",
       "      <td>NaN</td>\n",
       "      <td>NaN</td>\n",
       "      <td>NaN</td>\n",
       "      <td>NaN</td>\n",
       "      <td>Cloth</td>\n",
       "    </tr>\n",
       "    <tr>\n",
       "      <th>191</th>\n",
       "      <td>191</td>\n",
       "      <td>Audi A1</td>\n",
       "      <td>Compact</td>\n",
       "      <td>17900</td>\n",
       "      <td>NaN</td>\n",
       "      <td>11300.00</td>\n",
       "      <td>66.00</td>\n",
       "      <td>Used</td>\n",
       "      <td>Automatic</td>\n",
       "      <td>NaN</td>\n",
       "      <td>Benzine</td>\n",
       "      <td>NaN</td>\n",
       "      <td>NaN</td>\n",
       "      <td>NaN</td>\n",
       "      <td>NaN</td>\n",
       "      <td>NaN</td>\n",
       "      <td>7.00</td>\n",
       "      <td>3.00</td>\n",
       "      <td>No</td>\n",
       "      <td>12.00</td>\n",
       "      <td>NaN</td>\n",
       "      <td>NaN</td>\n",
       "      <td>NaN</td>\n",
       "      <td>NaN</td>\n",
       "      <td>NaN</td>\n",
       "    </tr>\n",
       "    <tr>\n",
       "      <th>404</th>\n",
       "      <td>404</td>\n",
       "      <td>Audi A1</td>\n",
       "      <td>Sedans</td>\n",
       "      <td>15500</td>\n",
       "      <td>NaN</td>\n",
       "      <td>24000.00</td>\n",
       "      <td>66.00</td>\n",
       "      <td>Used</td>\n",
       "      <td>Automatic</td>\n",
       "      <td>NaN</td>\n",
       "      <td>Benzine</td>\n",
       "      <td>NaN</td>\n",
       "      <td>Air conditioning,Armrest,Automatic climate con...</td>\n",
       "      <td>['Bluetooth', 'MP3', 'On-board computer', 'Rad...</td>\n",
       "      <td>['Sport package', 'Sport seats', 'Sport suspen...</td>\n",
       "      <td>['ABS', 'Adaptive Cruise Control', 'Adaptive h...</td>\n",
       "      <td>7.00</td>\n",
       "      <td>3.00</td>\n",
       "      <td>No</td>\n",
       "      <td>NaN</td>\n",
       "      <td>NaN</td>\n",
       "      <td>NaN</td>\n",
       "      <td>NaN</td>\n",
       "      <td>NaN</td>\n",
       "      <td>Cloth</td>\n",
       "    </tr>\n",
       "    <tr>\n",
       "      <th>412</th>\n",
       "      <td>412</td>\n",
       "      <td>Audi A1</td>\n",
       "      <td>Sedans</td>\n",
       "      <td>15450</td>\n",
       "      <td>NaN</td>\n",
       "      <td>34011.00</td>\n",
       "      <td>85.00</td>\n",
       "      <td>Used</td>\n",
       "      <td>Automatic</td>\n",
       "      <td>NaN</td>\n",
       "      <td>Benzine</td>\n",
       "      <td>97.00</td>\n",
       "      <td>Air conditioning,Armrest,Automatic climate con...</td>\n",
       "      <td>['Bluetooth', 'Hands-free equipment', 'On-boar...</td>\n",
       "      <td>['Alloy wheels', 'Shift paddles']</td>\n",
       "      <td>['Isofix']</td>\n",
       "      <td>7.00</td>\n",
       "      <td>3.00</td>\n",
       "      <td>No</td>\n",
       "      <td>NaN</td>\n",
       "      <td>NaN</td>\n",
       "      <td>4.00</td>\n",
       "      <td>NaN</td>\n",
       "      <td>97.00</td>\n",
       "      <td>Cloth</td>\n",
       "    </tr>\n",
       "    <tr>\n",
       "      <th>744</th>\n",
       "      <td>744</td>\n",
       "      <td>Audi A1</td>\n",
       "      <td>Other</td>\n",
       "      <td>23490</td>\n",
       "      <td>NaN</td>\n",
       "      <td>22001.00</td>\n",
       "      <td>140.00</td>\n",
       "      <td>Used</td>\n",
       "      <td>Automatic</td>\n",
       "      <td>NaN</td>\n",
       "      <td>other_fuel</td>\n",
       "      <td>134.00</td>\n",
       "      <td>Air conditioning,Automatic climate control,Cru...</td>\n",
       "      <td>['CD player', 'On-board computer']</td>\n",
       "      <td>['Roof rack', 'Sport seats']</td>\n",
       "      <td>['Adaptive Cruise Control', 'Central door lock...</td>\n",
       "      <td>7.00</td>\n",
       "      <td>2.00</td>\n",
       "      <td>No</td>\n",
       "      <td>3.00</td>\n",
       "      <td>5.00</td>\n",
       "      <td>7.40</td>\n",
       "      <td>4.90</td>\n",
       "      <td>134.00</td>\n",
       "      <td>NaN</td>\n",
       "    </tr>\n",
       "  </tbody>\n",
       "</table>\n",
       "</div>"
      ],
      "text/plain": [
       "     Unnamed: 0 make_model body_type  price             vat       km     hp  type gearing_type  displacement        fuel  co2_emission                                comfort&convenience                                entertainment&media                                             extras  \\\n",
       "142         142    Audi A1    Sedans  18200  VAT deductible 16500.00  85.00  Used    Automatic           NaN     Benzine           NaN  Air conditioning,Air suspension,Armrest,Automa...  ['Bluetooth', 'CD player', 'Digital radio', 'H...  ['Alloy wheels', 'Catalytic Converter', 'Shift...   \n",
       "191         191    Audi A1   Compact  17900             NaN 11300.00  66.00  Used    Automatic           NaN     Benzine           NaN                                                NaN                                                NaN                                                NaN   \n",
       "404         404    Audi A1    Sedans  15500             NaN 24000.00  66.00  Used    Automatic           NaN     Benzine           NaN  Air conditioning,Armrest,Automatic climate con...  ['Bluetooth', 'MP3', 'On-board computer', 'Rad...  ['Sport package', 'Sport seats', 'Sport suspen...   \n",
       "412         412    Audi A1    Sedans  15450             NaN 34011.00  85.00  Used    Automatic           NaN     Benzine         97.00  Air conditioning,Armrest,Automatic climate con...  ['Bluetooth', 'Hands-free equipment', 'On-boar...                  ['Alloy wheels', 'Shift paddles']   \n",
       "744         744    Audi A1     Other  23490             NaN 22001.00 140.00  Used    Automatic           NaN  other_fuel        134.00  Air conditioning,Automatic climate control,Cru...                 ['CD player', 'On-board computer']                       ['Roof rack', 'Sport seats']   \n",
       "\n",
       "                                       safety&security  gears  age_of_car Inspection  warranty_  cons_comb  cons_city  cons_country  co2_emission6 Upholstery_Type  \n",
       "142  ['ABS', 'Adaptive Cruise Control', 'Adaptive h...   6.00        1.00         No        NaN        NaN        NaN           NaN            NaN           Cloth  \n",
       "191                                                NaN   7.00        3.00         No      12.00        NaN        NaN           NaN            NaN             NaN  \n",
       "404  ['ABS', 'Adaptive Cruise Control', 'Adaptive h...   7.00        3.00         No        NaN        NaN        NaN           NaN            NaN           Cloth  \n",
       "412                                         ['Isofix']   7.00        3.00         No        NaN        NaN       4.00           NaN          97.00           Cloth  \n",
       "744  ['Adaptive Cruise Control', 'Central door lock...   7.00        2.00         No       3.00       5.00       7.40          4.90         134.00             NaN  "
      ]
     },
     "execution_count": 63,
     "metadata": {},
     "output_type": "execute_result"
    }
   ],
   "source": [
    "df=df[~((df['displacement']<(Q1 - 1.5*IQR)) | (df['displacement'] >(Q3 + 1.5*IQR)))]\n",
    "df.head()"
   ]
  },
  {
   "cell_type": "code",
   "execution_count": 64,
   "metadata": {},
   "outputs": [
    {
     "data": {
      "image/png": "[encoded data removed]",
      "text/plain": [
       "<Figure size 432x288 with 1 Axes>"
      ]
     },
     "metadata": {
      "needs_background": "light"
     },
     "output_type": "display_data"
    }
   ],
   "source": [
    "df['co2_emission'].plot(kind='box');"
   ]
  },
  {
   "cell_type": "code",
   "execution_count": 66,
   "metadata": {},
   "outputs": [
    {
     "name": "stdout",
     "output_type": "stream",
     "text": [
      "<class 'pandas.core.frame.DataFrame'>\n",
      "Int64Index: 269 entries, 142 to 15795\n",
      "Data columns (total 25 columns):\n",
      " #   Column               Non-Null Count  Dtype  \n",
      "---  ------               --------------  -----  \n",
      " 0   Unnamed: 0           269 non-null    int64  \n",
      " 1   make_model           269 non-null    object \n",
      " 2   body_type            264 non-null    object \n",
      " 3   price                269 non-null    int64  \n",
      " 4   vat                  119 non-null    object \n",
      " 5   km                   231 non-null    float64\n",
      " 6   hp                   229 non-null    float64\n",
      " 7   type                 269 non-null    object \n",
      " 8   gearing_type         269 non-null    object \n",
      " 9   displacement         12 non-null     float64\n",
      " 10  fuel                 269 non-null    object \n",
      " 11  co2_emission         75 non-null     float64\n",
      " 12  comfort&convenience  179 non-null    object \n",
      " 13  entertainment&media  153 non-null    object \n",
      " 14  extras               141 non-null    object \n",
      " 15  safety&security      176 non-null    object \n",
      " 16  gears                136 non-null    float64\n",
      " 17  age_of_car           231 non-null    float64\n",
      " 18  Inspection           269 non-null    object \n",
      " 19  warranty_            117 non-null    float64\n",
      " 20  cons_comb            72 non-null     float64\n",
      " 21  cons_city            72 non-null     float64\n",
      " 22  cons_country         64 non-null     float64\n",
      " 23  co2_emission6        74 non-null     float64\n",
      " 24  Upholstery_Type      103 non-null    object \n",
      "dtypes: float64(11), int64(2), object(12)\n",
      "memory usage: 54.6+ KB\n"
     ]
    }
   ],
   "source": [
    "df.info()"
   ]
  },
  {
   "cell_type": "code",
   "execution_count": 67,
   "metadata": {},
   "outputs": [
    {
     "data": {
      "image/png": "[encoded data removed]",
      "text/plain": [
       "<Figure size 432x288 with 1 Axes>"
      ]
     },
     "metadata": {
      "needs_background": "light"
     },
     "output_type": "display_data"
    }
   ],
   "source": [
    "df['gears'].plot(kind='box');"
   ]
  },
  {
   "cell_type": "code",
   "execution_count": 68,
   "metadata": {},
   "outputs": [
    {
     "data": {
      "text/plain": [
       "(6.0, 6.0, 0.0)"
      ]
     },
     "execution_count": 68,
     "metadata": {},
     "output_type": "execute_result"
    }
   ],
   "source": [
    "Q1 = df.gears.quantile(0.25)\n",
    "Q3 = df.gears.quantile(0.75)\n",
    "IQR = Q3 - Q1\n",
    "Q1, Q3,IQR"
   ]
  },
  {
   "cell_type": "code",
   "execution_count": 69,
   "metadata": {},
   "outputs": [
    {
     "data": {
      "text/plain": [
       "142   6.00\n",
       "767    NaN\n",
       "810    NaN\n",
       "908    NaN\n",
       "980   6.00\n",
       "Name: gears, dtype: float64"
      ]
     },
     "execution_count": 69,
     "metadata": {},
     "output_type": "execute_result"
    }
   ],
   "source": [
    "df=df[~((df['gears']<(Q1 - 1.5*IQR)) | (df['gears'] >(Q3 + 1.5*IQR)))]\n",
    "df.gears.head()"
   ]
  },
  {
   "cell_type": "code",
   "execution_count": 70,
   "metadata": {},
   "outputs": [
    {
     "data": {
      "image/png": "[encoded data removed]",
      "text/plain": [
       "<Figure size 432x288 with 1 Axes>"
      ]
     },
     "metadata": {
      "needs_background": "light"
     },
     "output_type": "display_data"
    }
   ],
   "source": [
    "df['gears'].plot(kind='box');"
   ]
  },
  {
   "cell_type": "code",
   "execution_count": 71,
   "metadata": {},
   "outputs": [
    {
     "data": {
      "image/png": "[encoded data removed]",
      "text/plain": [
       "<Figure size 432x288 with 1 Axes>"
      ]
     },
     "metadata": {
      "needs_background": "light"
     },
     "output_type": "display_data"
    }
   ],
   "source": [
    "df['age_of_car'].plot(kind='box');"
   ]
  },
  {
   "cell_type": "code",
   "execution_count": null,
   "metadata": {},
   "outputs": [],
   "source": []
  },
  {
   "cell_type": "code",
   "execution_count": null,
   "metadata": {},
   "outputs": [],
   "source": []
  },
  {
   "cell_type": "code",
   "execution_count": 72,
   "metadata": {},
   "outputs": [
    {
     "data": {
      "image/png": "[encoded data removed]",
      "text/plain": [
       "<Figure size 432x288 with 1 Axes>"
      ]
     },
     "metadata": {
      "needs_background": "light"
     },
     "output_type": "display_data"
    }
   ],
   "source": [
    "df['warranty_'].plot(kind='box');"
   ]
  },
  {
   "cell_type": "code",
   "execution_count": 73,
   "metadata": {},
   "outputs": [
    {
     "data": {
      "text/plain": [
       "(12.0, 12.0, 0.0)"
      ]
     },
     "execution_count": 73,
     "metadata": {},
     "output_type": "execute_result"
    }
   ],
   "source": [
    "Q1 = df.warranty_.quantile(0.25)\n",
    "Q3 = df.warranty_.quantile(0.75)\n",
    "IQR = Q3 - Q1\n",
    "Q1, Q3,IQR"
   ]
  },
  {
   "cell_type": "code",
   "execution_count": 74,
   "metadata": {},
   "outputs": [
    {
     "data": {
      "text/plain": [
       "142    NaN\n",
       "767    NaN\n",
       "980    NaN\n",
       "1937   NaN\n",
       "1951   NaN\n",
       "Name: warranty_, dtype: float64"
      ]
     },
     "execution_count": 74,
     "metadata": {},
     "output_type": "execute_result"
    }
   ],
   "source": [
    "df=df[~((df['warranty_']<(Q1 - 1.5*IQR)) | (df['warranty_'] >(Q3 + 1.5*IQR)))]\n",
    "df.warranty_.head()"
   ]
  },
  {
   "cell_type": "code",
   "execution_count": 75,
   "metadata": {},
   "outputs": [
    {
     "data": {
      "image/png": "[encoded data removed]",
      "text/plain": [
       "<Figure size 432x288 with 1 Axes>"
      ]
     },
     "metadata": {
      "needs_background": "light"
     },
     "output_type": "display_data"
    }
   ],
   "source": [
    "df['cons_comb'].plot(kind='box');"
   ]
  },
  {
   "cell_type": "code",
   "execution_count": 76,
   "metadata": {},
   "outputs": [
    {
     "data": {
      "image/png": "[encoded data removed]",
      "text/plain": [
       "<Figure size 432x288 with 1 Axes>"
      ]
     },
     "metadata": {
      "needs_background": "light"
     },
     "output_type": "display_data"
    }
   ],
   "source": [
    "df['cons_city'].plot(kind='box');"
   ]
  },
  {
   "cell_type": "code",
   "execution_count": 77,
   "metadata": {},
   "outputs": [
    {
     "data": {
      "text/plain": [
       "(5.9, 7.6, 1.6999999999999993)"
      ]
     },
     "execution_count": 77,
     "metadata": {},
     "output_type": "execute_result"
    }
   ],
   "source": [
    "Q1 = df.cons_city.quantile(0.25)\n",
    "Q3 = df.cons_city.quantile(0.75)\n",
    "IQR = Q3 - Q1\n",
    "Q1, Q3,IQR"
   ]
  },
  {
   "cell_type": "code",
   "execution_count": 78,
   "metadata": {},
   "outputs": [
    {
     "data": {
      "text/plain": [
       "142     NaN\n",
       "767     NaN\n",
       "980     NaN\n",
       "1937   5.90\n",
       "1951   5.90\n",
       "Name: cons_city, dtype: float64"
      ]
     },
     "execution_count": 78,
     "metadata": {},
     "output_type": "execute_result"
    }
   ],
   "source": [
    "df=df[~((df['cons_city']<(Q1 - 1.5*IQR)) | (df['cons_city'] >(Q3 + 1.5*IQR)))]\n",
    "df.cons_city.head()"
   ]
  },
  {
   "cell_type": "code",
   "execution_count": 79,
   "metadata": {},
   "outputs": [
    {
     "data": {
      "image/png": "[encoded data removed]",
      "text/plain": [
       "<Figure size 432x288 with 1 Axes>"
      ]
     },
     "metadata": {
      "needs_background": "light"
     },
     "output_type": "display_data"
    }
   ],
   "source": [
    "df['cons_city'].plot(kind='box');"
   ]
  },
  {
   "cell_type": "code",
   "execution_count": 80,
   "metadata": {},
   "outputs": [
    {
     "data": {
      "image/png": "[encoded data removed]",
      "text/plain": [
       "<Figure size 432x288 with 1 Axes>"
      ]
     },
     "metadata": {
      "needs_background": "light"
     },
     "output_type": "display_data"
    }
   ],
   "source": [
    "df['cons_country'].plot(kind='box');"
   ]
  },
  {
   "cell_type": "code",
   "execution_count": 81,
   "metadata": {},
   "outputs": [],
   "source": [
    "df.to_csv('Capstone_Outliers.csv')"
   ]
  },
  {
   "cell_type": "code",
   "execution_count": null,
   "metadata": {},
   "outputs": [],
   "source": []
  }
 ],
 "metadata": {
  "kernelspec": {
   "display_name": "Python 3 (ipykernel)",
   "language": "python",
   "name": "python3"
  },
  "language_info": {
   "codemirror_mode": {
    "name": "ipython",
    "version": 3
   },
   "file_extension": ".py",
   "mimetype": "text/x-python",
   "name": "python",
   "nbconvert_exporter": "python",
   "pygments_lexer": "ipython3",
   "version": "3.8.10"
  }
 },
 "nbformat": 4,
 "nbformat_minor": 4
}
