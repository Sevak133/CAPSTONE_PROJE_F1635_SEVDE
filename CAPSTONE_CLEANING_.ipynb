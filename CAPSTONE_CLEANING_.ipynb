{
 "cells": [
  {
   "cell_type": "markdown",
   "metadata": {},
   "source": [
    "# CLEANING"
   ]
  },
  {
   "cell_type": "code",
   "execution_count": null,
   "metadata": {},
   "outputs": [],
   "source": [
    "import numpy as np\n",
    "import pandas as pd\n",
    "import matplotlib.pyplot as plt\n",
    "import seaborn as sns\n",
    "import scipy\n",
    "import warnings\n",
    "warnings.simplefilter(action='ignore', category=Warning)\n",
    "pd.set_option('display.max_columns', None)\n",
    "pd.set_option('display.max_rows', None)\n",
    "pd.set_option('display.float_format', lambda x: '%.2f' % x)\n",
    "pd.set_option('display.width', 300)\n",
    "import warnings\n",
    "warnings.filterwarnings('ignore')"
   ]
  },
  {
   "cell_type": "code",
   "execution_count": null,
   "metadata": {},
   "outputs": [],
   "source": [
    "df_ = pd.read_json('scout_car.json', lines=True)\n",
    "df  = df_.copy()"
   ]
  },
  {
   "cell_type": "code",
   "execution_count": null,
   "metadata": {
    "scrolled": true
   },
   "outputs": [],
   "source": [
    "df.head(5)"
   ]
  },
  {
   "cell_type": "code",
   "execution_count": null,
   "metadata": {},
   "outputs": [],
   "source": [
    "def check_df(dataframe, head=5):\n",
    "    print(\"##################### Shape #####################\")\n",
    "    print(dataframe.shape)\n",
    "    print(\"##################### Types #####################\")\n",
    "    print(dataframe.dtypes)\n",
    "    print(\"##################### Head #####################\")\n",
    "    print(dataframe.head(head))\n",
    "    print(\"##################### Tail #####################\")\n",
    "    print(dataframe.tail(head))\n",
    "    print(\"##################### NA #####################\")\n",
    "    print(dataframe.isnull().sum())\n",
    "    print(\"##################### Quantiles #####################\")\n",
    "    print(dataframe.quantile([0,0.01, 0.05, 0.50, 0.95, 0.99, 1]).T)"
   ]
  },
  {
   "cell_type": "code",
   "execution_count": null,
   "metadata": {},
   "outputs": [],
   "source": [
    "for i in df.columns:\n",
    "        n=i.lower().replace(\" \",\"_\")\n",
    "        df.rename(columns = {i:n}, inplace = True)\n",
    "df. rename(columns = {'nr._of_doors':'nr_of_doors', 'nr._of_seats':'nr_of_seats','\\ncomfort_&_convenience\\n':'comfort&convenience',\n",
    "                     '\\nentertainment_&_media\\n':'entertainment&media','\\nextras\\n':'extras',\n",
    "                     '\\nsafety_&_security\\n':'safety&security',\n",
    "                     'nr._of_doors':'nr_of_doors'}, inplace = True)"
   ]
  },
  {
   "cell_type": "code",
   "execution_count": null,
   "metadata": {},
   "outputs": [],
   "source": [
    "df.columns"
   ]
  },
  {
   "cell_type": "code",
   "execution_count": null,
   "metadata": {},
   "outputs": [],
   "source": [
    "df.info()"
   ]
  },
  {
   "cell_type": "code",
   "execution_count": null,
   "metadata": {},
   "outputs": [],
   "source": [
    "df.isnull().sum()"
   ]
  },
  {
   "cell_type": "markdown",
   "metadata": {},
   "source": [
    "### 1-url"
   ]
  },
  {
   "cell_type": "code",
   "execution_count": null,
   "metadata": {},
   "outputs": [],
   "source": [
    "df.url.value_counts().head(3)"
   ]
  },
  {
   "cell_type": "markdown",
   "metadata": {},
   "source": [
    "### 2-make_model"
   ]
  },
  {
   "cell_type": "code",
   "execution_count": null,
   "metadata": {},
   "outputs": [],
   "source": [
    "df.make_model.value_counts(dropna=False)"
   ]
  },
  {
   "cell_type": "markdown",
   "metadata": {},
   "source": [
    "#####  When we examine whole data this column's information seems to be formed by \"make\" and \"model\" but let's check these columns"
   ]
  },
  {
   "cell_type": "markdown",
   "metadata": {},
   "source": [
    "### 20-make , 21-model"
   ]
  },
  {
   "cell_type": "code",
   "execution_count": null,
   "metadata": {},
   "outputs": [],
   "source": [
    "df[[\"make\",\"model\",\"make_model\"]].head()"
   ]
  },
  {
   "cell_type": "markdown",
   "metadata": {},
   "source": [
    "##### As it seems, make_model column has detailed information. We will add these two columns to our drop list"
   ]
  },
  {
   "cell_type": "markdown",
   "metadata": {},
   "source": [
    "### 3-short_description"
   ]
  },
  {
   "cell_type": "code",
   "execution_count": null,
   "metadata": {},
   "outputs": [],
   "source": [
    "df.short_description.value_counts(dropna=False)"
   ]
  },
  {
   "cell_type": "code",
   "execution_count": null,
   "metadata": {},
   "outputs": [],
   "source": [
    "df[[\"short_description\",\"displacement\"]]"
   ]
  },
  {
   "cell_type": "markdown",
   "metadata": {},
   "source": [
    "### 45-description"
   ]
  },
  {
   "cell_type": "code",
   "execution_count": null,
   "metadata": {},
   "outputs": [],
   "source": [
    "df[\"description\"] = [\",\".join(x) if type(x) == list else x for x in df[\"description\"]]\n",
    "df[\"description\"] = df[\"description\"].str.strip('\\n').str.lstrip(',')"
   ]
  },
  {
   "cell_type": "code",
   "execution_count": null,
   "metadata": {},
   "outputs": [],
   "source": [
    "df[\"description\"].value_counts(dropna=False)"
   ]
  },
  {
   "cell_type": "code",
   "execution_count": null,
   "metadata": {},
   "outputs": [],
   "source": [
    "df[[\"short_description\",\"description\"]]"
   ]
  },
  {
   "cell_type": "markdown",
   "metadata": {},
   "source": [
    "### 4-body_type"
   ]
  },
  {
   "cell_type": "code",
   "execution_count": null,
   "metadata": {},
   "outputs": [],
   "source": [
    "df[\"body_type\"].value_counts(dropna=False)"
   ]
  },
  {
   "cell_type": "markdown",
   "metadata": {},
   "source": [
    "##### NOTE: When we examine data, you may notice that \"body\" column seems to have same information. Let's find out!"
   ]
  },
  {
   "cell_type": "markdown",
   "metadata": {},
   "source": [
    "### 28-body"
   ]
  },
  {
   "cell_type": "code",
   "execution_count": null,
   "metadata": {},
   "outputs": [],
   "source": [
    "df[[\"body_type\",\"body\"]]"
   ]
  },
  {
   "cell_type": "markdown",
   "metadata": {},
   "source": [
    "##### As we see that, They both have same information. Therefore, we will add \"body\" column to our drop list"
   ]
  },
  {
   "cell_type": "markdown",
   "metadata": {},
   "source": [
    "### 5-price(TARGET VARIABLE)"
   ]
  },
  {
   "cell_type": "code",
   "execution_count": null,
   "metadata": {},
   "outputs": [],
   "source": [
    "df.price.value_counts(dropna=False)"
   ]
  },
  {
   "cell_type": "code",
   "execution_count": null,
   "metadata": {},
   "outputs": [],
   "source": [
    "df.price.describe()"
   ]
  },
  {
   "cell_type": "markdown",
   "metadata": {},
   "source": [
    "##### CONCLUSION: We observed these column's dtype, missing values and values itself at the beginning. There seems to be no problem with these variable for cleaning. We will examine and visualize it detailed in our \"MISSING VALUES\" and \"OUTLIERS\" notebooks"
   ]
  },
  {
   "cell_type": "markdown",
   "metadata": {},
   "source": [
    "### 6-vat"
   ]
  },
  {
   "cell_type": "code",
   "execution_count": null,
   "metadata": {},
   "outputs": [],
   "source": [
    "df.vat.value_counts(dropna=False)"
   ]
  },
  {
   "cell_type": "markdown",
   "metadata": {},
   "source": [
    "### 7-km"
   ]
  },
  {
   "cell_type": "code",
   "execution_count": null,
   "metadata": {},
   "outputs": [],
   "source": [
    "df.km.value_counts(dropna=False)"
   ]
  },
  {
   "cell_type": "code",
   "execution_count": null,
   "metadata": {},
   "outputs": [],
   "source": [
    "df['km'] = df['km'].str.replace(',','').str.extract('(\\d+)').astype(float)"
   ]
  },
  {
   "cell_type": "code",
   "execution_count": null,
   "metadata": {},
   "outputs": [],
   "source": [
    "df['km'].value_counts(dropna=False)"
   ]
  },
  {
   "cell_type": "markdown",
   "metadata": {},
   "source": [
    "### 8 : registration"
   ]
  },
  {
   "cell_type": "code",
   "execution_count": null,
   "metadata": {},
   "outputs": [],
   "source": [
    "df['registration'].value_counts(dropna=False)"
   ]
  },
  {
   "cell_type": "code",
   "execution_count": null,
   "metadata": {},
   "outputs": [],
   "source": [
    "df['registration'] = df[\"registration\"].replace(\"-/-\", np.nan)\n",
    "df['registration'] = pd.to_datetime(df['registration'])"
   ]
  },
  {
   "cell_type": "code",
   "execution_count": null,
   "metadata": {},
   "outputs": [],
   "source": [
    "df['registration'].value_counts(dropna=False)"
   ]
  },
  {
   "cell_type": "markdown",
   "metadata": {},
   "source": [
    "##### CONCLUSION: We handled dtype and unwanted character problem. We may use this column's information to create another column maybe. See the Note below."
   ]
  },
  {
   "cell_type": "markdown",
   "metadata": {},
   "source": [
    "##### NOTE: It seems that, part of this column's information is already exist in another column. Let's check this first."
   ]
  },
  {
   "cell_type": "markdown",
   "metadata": {},
   "source": [
    "### 23-first_registration"
   ]
  },
  {
   "cell_type": "code",
   "execution_count": null,
   "metadata": {},
   "outputs": [],
   "source": [
    "df[\"first_registration\"] = df[\"first_registration\"].str.join(\"\").str.strip('\\n')"
   ]
  },
  {
   "cell_type": "code",
   "execution_count": null,
   "metadata": {},
   "outputs": [],
   "source": [
    "df['first_registration'].value_counts(dropna=False)"
   ]
  },
  {
   "cell_type": "code",
   "execution_count": null,
   "metadata": {},
   "outputs": [],
   "source": [
    "df[[\"registration\",\"first_registration\"]]"
   ]
  },
  {
   "cell_type": "markdown",
   "metadata": {},
   "source": [
    "##### Note: This data belong to the year 2019. We will use this information to create another column"
   ]
  },
  {
   "cell_type": "code",
   "execution_count": null,
   "metadata": {},
   "outputs": [],
   "source": [
    "df[\"first_registration\"] = df[\"first_registration\"].astype('float')"
   ]
  },
  {
   "cell_type": "code",
   "execution_count": null,
   "metadata": {},
   "outputs": [],
   "source": [
    "df['age_of_car'] = 2019 - df[\"first_registration\"]"
   ]
  },
  {
   "cell_type": "code",
   "execution_count": null,
   "metadata": {},
   "outputs": [],
   "source": [
    "df['age_of_car']"
   ]
  },
  {
   "cell_type": "markdown",
   "metadata": {},
   "source": [
    "### 9-prev_owner "
   ]
  },
  {
   "cell_type": "code",
   "execution_count": null,
   "metadata": {},
   "outputs": [],
   "source": [
    "df['prev_owner'].value_counts(dropna=False)"
   ]
  },
  {
   "cell_type": "code",
   "execution_count": null,
   "metadata": {},
   "outputs": [],
   "source": [
    "df['prev_owner'] = df['prev_owner'].str.findall('\\d').str.join(\"\")"
   ]
  },
  {
   "cell_type": "code",
   "execution_count": null,
   "metadata": {},
   "outputs": [],
   "source": [
    "df['prev_owner'].value_counts(dropna=False)"
   ]
  },
  {
   "cell_type": "markdown",
   "metadata": {},
   "source": [
    "##### Note: There seems to have another column has same information. Let's check it out and compare these columns and we will decide whether drop one of them or not"
   ]
  },
  {
   "cell_type": "markdown",
   "metadata": {},
   "source": [
    "### 13-previous_owners"
   ]
  },
  {
   "cell_type": "code",
   "execution_count": null,
   "metadata": {},
   "outputs": [],
   "source": [
    "df[\"previous_owners\"].str.join(\"\").value_counts(dropna=False)"
   ]
  },
  {
   "cell_type": "markdown",
   "metadata": {},
   "source": [
    "##### Some information is unrelated to this column obviously and might belong to another column, we will check it later with other columns. Here, we will only extract related data."
   ]
  },
  {
   "cell_type": "code",
   "execution_count": null,
   "metadata": {},
   "outputs": [],
   "source": [
    "df[df[\"previous_owners\"].isnull()][[\"prev_owner\",\"previous_owners\"]]"
   ]
  },
  {
   "cell_type": "markdown",
   "metadata": {},
   "source": [
    "##### We maybe use some values in previous owners to fill \"emission class\" and \"co2_emission\" columns"
   ]
  },
  {
   "cell_type": "code",
   "execution_count": null,
   "metadata": {},
   "outputs": [],
   "source": [
    "df.previous_owners = [\",\".join(x) if type(x) == list else x for x in df.previous_owners]\n",
    "df[\"previous_owners1\"]=df.previous_owners.str.split(\",\").str[1].str.extract('(\\d+)')[0] #co2 değerler\n",
    "df[\"previous_owners2\"]=df.previous_owners.str.split(\",\").str[1].str.extract('(\\D+\\s\\d\\D)')[0].str.replace('\\n','') #emission class için euro değerleri\n",
    "#df[df.emission_class4.isnull()][\"previous_owners2\"]"
   ]
  },
  {
   "cell_type": "markdown",
   "metadata": {},
   "source": [
    "##### When we check NaN values in emission class and there is no index match with \"emission class\" column"
   ]
  },
  {
   "cell_type": "code",
   "execution_count": null,
   "metadata": {},
   "outputs": [],
   "source": [
    "df.emission_class.isnull().sum()"
   ]
  },
  {
   "cell_type": "code",
   "execution_count": null,
   "metadata": {},
   "outputs": [],
   "source": [
    "df[\"co2_emission\"] = df[\"co2_emission\"].str.join(\"\")\n",
    "df[\"co2_emission\"] = df[\"co2_emission\"].str.strip('\\n')\n",
    "df[\"co2_emission\"] = df.co2_emission.str.extract('(\\d+)')[0]\n",
    "\n",
    "df[\"emission_class\"] = df[\"emission_class\"].str.join(\"\").str.strip('\\n')"
   ]
  },
  {
   "cell_type": "code",
   "execution_count": null,
   "metadata": {},
   "outputs": [],
   "source": [
    "df[\"co2_emission1\"]=df.co2_emission.fillna(df.previous_owners1)"
   ]
  },
  {
   "cell_type": "code",
   "execution_count": null,
   "metadata": {},
   "outputs": [],
   "source": [
    "df[\"co2_emission1\"].isnull().sum()"
   ]
  },
  {
   "cell_type": "code",
   "execution_count": null,
   "metadata": {},
   "outputs": [],
   "source": [
    "df.drop(['prev_owner',\"previous_owners\",\"previous_owners1\",\"previous_owners2\"],axis=1,inplace=True)"
   ]
  },
  {
   "cell_type": "markdown",
   "metadata": {},
   "source": [
    "##### We will examine co2_emission column seperately because there are other columns which consist co2_emission values. We will drop co2_emission1 afterwards."
   ]
  },
  {
   "cell_type": "markdown",
   "metadata": {},
   "source": [
    "### 10-kw"
   ]
  },
  {
   "cell_type": "code",
   "execution_count": null,
   "metadata": {},
   "outputs": [],
   "source": [
    "df['kw'].value_counts(dropna=False)"
   ]
  },
  {
   "cell_type": "markdown",
   "metadata": {},
   "source": [
    "### 11-hp"
   ]
  },
  {
   "cell_type": "code",
   "execution_count": null,
   "metadata": {},
   "outputs": [],
   "source": [
    "df['hp'].value_counts(dropna=False)"
   ]
  },
  {
   "cell_type": "code",
   "execution_count": null,
   "metadata": {},
   "outputs": [],
   "source": [
    "df['hp'] = df['hp'].replace('- kW',np.NaN).str.findall('\\d+').str.join(\"\")"
   ]
  },
  {
   "cell_type": "code",
   "execution_count": null,
   "metadata": {},
   "outputs": [],
   "source": [
    "df['hp'].isnull().sum()"
   ]
  },
  {
   "cell_type": "markdown",
   "metadata": {},
   "source": [
    "##### We convert unwanted character to NULL and handled problem with the data "
   ]
  },
  {
   "cell_type": "markdown",
   "metadata": {},
   "source": [
    "### 12-Type"
   ]
  },
  {
   "cell_type": "code",
   "execution_count": null,
   "metadata": {},
   "outputs": [],
   "source": [
    "df[\"type\"].str.join(\"\").value_counts(dropna=False)"
   ]
  },
  {
   "cell_type": "code",
   "execution_count": null,
   "metadata": {},
   "outputs": [],
   "source": [
    "df[\"type\"] = df[\"type\"].str[1]"
   ]
  },
  {
   "cell_type": "code",
   "execution_count": null,
   "metadata": {},
   "outputs": [],
   "source": [
    "df[\"type\"].value_counts(dropna=False)"
   ]
  },
  {
   "cell_type": "markdown",
   "metadata": {},
   "source": [
    "### 37-Fuel"
   ]
  },
  {
   "cell_type": "markdown",
   "metadata": {},
   "source": [
    "##### There are some values belong to \"fuel\" column in type variable but \"fuel\" column is already full. Therefore, we will extract values that we needed for type"
   ]
  },
  {
   "cell_type": "code",
   "execution_count": null,
   "metadata": {},
   "outputs": [],
   "source": [
    "df[\"fuel\"] = df[\"fuel\"].str.join(\"\").str.strip('\\n')"
   ]
  },
  {
   "cell_type": "code",
   "execution_count": null,
   "metadata": {},
   "outputs": [],
   "source": [
    "df.fuel=df.fuel.str.split(\"/\").str[0].str.strip(' ')\n",
    "benzine=[\"Diesel (Particulate Filter)\",\"Diesel\",\"Super E10 95\",\"Super Plus 98\",\"Super Plus E10 98\",\n",
    "         \"Others\"]\n",
    "lpg=[\"LPG\",\"Liquid petroleum gas\",\"CNG\",\"Biogas\",\"Domestic gas H\"]\n",
    "def fueltype1(x):\n",
    "    if x in benzine:\n",
    "        return \"Benzine\"\n",
    "    elif x in lpg:\n",
    "        return \"LPG/CNG\"\n",
    "    else:\n",
    "        return \"other_fuel\""
   ]
  },
  {
   "cell_type": "code",
   "execution_count": null,
   "metadata": {},
   "outputs": [],
   "source": [
    "df.fuel=df.fuel.apply(fueltype1)"
   ]
  },
  {
   "cell_type": "code",
   "execution_count": null,
   "metadata": {},
   "outputs": [],
   "source": [
    "df.fuel.value_counts()"
   ]
  },
  {
   "cell_type": "markdown",
   "metadata": {},
   "source": [
    "### 14-next_inspection"
   ]
  },
  {
   "cell_type": "code",
   "execution_count": null,
   "metadata": {},
   "outputs": [],
   "source": [
    "df['next_inspection'].str.join('').str.strip('\\n').value_counts(dropna=False)"
   ]
  },
  {
   "cell_type": "markdown",
   "metadata": {},
   "source": [
    "##### There are some values belong to other columns. We will extract them"
   ]
  },
  {
   "cell_type": "code",
   "execution_count": null,
   "metadata": {},
   "outputs": [],
   "source": [
    "df.next_inspection = [\",\".join(x) if type(x) == list else x for x in df.next_inspection]\n",
    "df[\"next_inspection2\"]=df.next_inspection.str.split(\",\").str[1].str.extract('(\\d+)')[0] #co2\n",
    "df[\"next_inspection3\"]=df.next_inspection.str.split(\",\").str[1].str.extract('(\\D+\\s\\d\\D)')[0].str.replace('\\n','')#emission class için euro değerleri\n",
    "df[\"next_inspection4\"]=df.next_inspection.str.split(\",\").str[1].str.extract('(\\d \\D+)')[0].str.replace(\"\\n\",\"\").str.strip(\" \")#emission_label içindeki green değerleri"
   ]
  },
  {
   "cell_type": "code",
   "execution_count": null,
   "metadata": {},
   "outputs": [],
   "source": [
    "df[\"co2_emission2\"]=df.co2_emission1.fillna(df.next_inspection2)"
   ]
  },
  {
   "cell_type": "code",
   "execution_count": null,
   "metadata": {},
   "outputs": [],
   "source": [
    "list_emission_label=[\"4 (Green)\",\"1 (No sticker)\",\"5 (Blue)\",\"(Red)\",\"3 (Yellow)\"]\n",
    "def emission_label_control(x): \n",
    "    if x in list_emission_label:\n",
    "        return x\n",
    "    else:\n",
    "        return np.nan\n",
    "    \n",
    "df.next_inspection4=df.next_inspection4.apply(emission_label_control)\n",
    "df.next_inspection4.value_counts()\n",
    "df[\"emission_label\"] = df[\"emission_label\"].str.join('').str.strip('\\n')\n",
    "df[\"emission_label1\"]=df.emission_label.fillna(df.next_inspection4)"
   ]
  },
  {
   "cell_type": "markdown",
   "metadata": {},
   "source": [
    "##### We noticed that when we try to fill emission_class it doesn't effect the NULL values. Therefore, we won't fill it. We will drop emission_label1 afterwards"
   ]
  },
  {
   "cell_type": "markdown",
   "metadata": {},
   "source": [
    "### 15-Inspection_new"
   ]
  },
  {
   "cell_type": "code",
   "execution_count": null,
   "metadata": {},
   "outputs": [],
   "source": [
    "df['inspection_new'].str.join('').str.strip('\\n').value_counts(dropna=False)"
   ]
  },
  {
   "cell_type": "code",
   "execution_count": null,
   "metadata": {},
   "outputs": [],
   "source": [
    "df.inspection_new.str[0]"
   ]
  },
  {
   "cell_type": "code",
   "execution_count": null,
   "metadata": {},
   "outputs": [],
   "source": [
    "df['Inspection'] = df['inspection_new'].str.strip('\\n')\n",
    "df['Inspection'] = df['Inspection'].str[:3]\n",
    "df['Inspection'] = df['Inspection'].fillna('No')"
   ]
  },
  {
   "cell_type": "code",
   "execution_count": null,
   "metadata": {},
   "outputs": [],
   "source": [
    "df['Inspection'].value_counts()"
   ]
  },
  {
   "cell_type": "markdown",
   "metadata": {},
   "source": [
    "##### There are some values belong to other columns. We will extract them and fill other columns"
   ]
  },
  {
   "cell_type": "code",
   "execution_count": null,
   "metadata": {},
   "outputs": [],
   "source": [
    "df.inspection_new = [\",\".join(x) if type(x) == list else x for x in df.inspection_new]\n",
    "df['inspection_new1']=df.inspection_new.str.split(\",\").str[1].str.extract('(\\d+)')[0] # co2\n",
    "df['inspection_new2']=df.inspection_new.str.split(\",\").str[1].str.extract('(\\D+\\s\\d\\D)')[0].str.replace('\\n','') # emission class için euro değerleri\n",
    "df[\"co2_emission3\"]=df.co2_emission2.fillna(df.inspection_new1)"
   ]
  },
  {
   "cell_type": "markdown",
   "metadata": {},
   "source": [
    "##### We will fill emission_class below(with warranty). We willl drop unnecesarry columns afterwards"
   ]
  },
  {
   "cell_type": "markdown",
   "metadata": {},
   "source": [
    "### 16-warranty"
   ]
  },
  {
   "cell_type": "code",
   "execution_count": null,
   "metadata": {},
   "outputs": [],
   "source": [
    "df.warranty.str.join('').value_counts(dropna=False)"
   ]
  },
  {
   "cell_type": "code",
   "execution_count": null,
   "metadata": {},
   "outputs": [],
   "source": [
    "df[\"warranty_\"] = df.warranty.str.split(\",\").str[0].str.extract('(\\d+)')[0].astype('float')"
   ]
  },
  {
   "cell_type": "markdown",
   "metadata": {},
   "source": [
    "##### There are some values belong to other columns. We will extract them and fill other columns"
   ]
  },
  {
   "cell_type": "code",
   "execution_count": null,
   "metadata": {},
   "outputs": [],
   "source": [
    "df.warranty = [\",\".join(x) if type(x) == list else x for x in df.warranty]\n",
    "df['warranty2']=df.warranty.str.split(\",\").str[1].str.extract('(\\D+\\s\\d\\D)')[0].str.replace('\\n','') # Euro 6\n",
    "df[\"warranty3\"]=df.warranty.str.split(\",\").str[1].str.extract('(\\d+)')[0] #co2 değerleri \n",
    "df[\"warranty4\"]=df.warranty.str.split(\",\").str[1].str.extract('(\\d \\D+)')[0].str.replace(\"\\n\",\"\").str.strip(\" \")#emission_label consist green\n",
    "df['emission_class1']=df.emission_class.fillna(df.warranty2) #emission_class filled by warranty\n",
    "df['emission_class2']=df.emission_class1.fillna(df.inspection_new2)\n",
    "df[\"co2_emission4\"]=df.co2_emission3.fillna(df.warranty3) #co2 emission filled by warranty3\n",
    "df.warranty4=df.warranty4.apply(emission_label_control)\n",
    "df[\"emission_label2\"]=df.emission_label1.fillna(df.warranty4)"
   ]
  },
  {
   "cell_type": "markdown",
   "metadata": {},
   "source": [
    "##### We will drop unnecesarry columns afterwards"
   ]
  },
  {
   "cell_type": "markdown",
   "metadata": {},
   "source": [
    "### 17-full_service"
   ]
  },
  {
   "cell_type": "code",
   "execution_count": null,
   "metadata": {},
   "outputs": [],
   "source": [
    "df['full_service'].str.join('').str.strip('\\n').dropna(False)"
   ]
  },
  {
   "cell_type": "markdown",
   "metadata": {},
   "source": [
    "##### There are some values belong to other columns. We will extract them and fill other columns"
   ]
  },
  {
   "cell_type": "code",
   "execution_count": null,
   "metadata": {},
   "outputs": [],
   "source": [
    "df[\"full_service\"]=[\",\".join(x) if type(x) == list else x for x in df.full_service]\n",
    "df[\"full_service1\"]=df.full_service.str.split(\",\").str[2].str.extract('(\\D+\\s\\d\\D)')[0].str.replace('\\n','') # Euro6 \n",
    "df['emission_class3']=df.emission_class2.fillna(df.full_service1) # emission_class filled by full service\n",
    "df[\"full_service2\"]=df.full_service.str.split(\",\").str[2].str.extract('(\\d+)')[0] # co2 \n",
    "df[\"co2_emission5\"]=df.co2_emission4.fillna(df.full_service2)  # co2 emission filled by warranty3"
   ]
  },
  {
   "cell_type": "markdown",
   "metadata": {},
   "source": [
    "### 38-consumption"
   ]
  },
  {
   "cell_type": "code",
   "execution_count": null,
   "metadata": {},
   "outputs": [],
   "source": [
    "df['consumption'].str.join('').str.strip('\\n').dropna(False)"
   ]
  },
  {
   "cell_type": "code",
   "execution_count": null,
   "metadata": {},
   "outputs": [],
   "source": [
    "def parser1(x):\n",
    "    if type(x) == float:\n",
    "        return np.nan\n",
    "    elif type(x[0]) == list:\n",
    "        if x[0] != []:\n",
    "            return x[0][0]\n",
    "        else:\n",
    "            return np.nan\n",
    "    else:\n",
    "        return x[1]\n",
    "def parser2(x):\n",
    "    if type(x) == float:\n",
    "        return np.nan\n",
    "    elif type(x[0]) == list:\n",
    "        if x[1] != []:\n",
    "            return x[1][0]\n",
    "        else:\n",
    "            return np.nan\n",
    "    elif x[3].endswith(')'):\n",
    "        return x[3]\n",
    "    else:\n",
    "        return np.nan\n",
    "def parser3(x):\n",
    "    if type(x) == float:\n",
    "        return np.nan\n",
    "    elif type(x[0]) == list:\n",
    "        if x[2] != []:\n",
    "            return x[2][0]\n",
    "        else:\n",
    "            return np.nan\n",
    "    elif type(x[0]) != list and x[3].endswith(')'):\n",
    "        return x[5]\n",
    "    else:\n",
    "        return np.nan\n"
   ]
  },
  {
   "cell_type": "code",
   "execution_count": null,
   "metadata": {},
   "outputs": [],
   "source": [
    "df['cons_comb'] = df.consumption.apply(parser1)\n",
    "df['cons_comb'] = df.cons_comb.str.extract('(\\d{1,2}).\\d|\\d{1,3}')[0].astype('float')\n",
    "df['cons_city'] = df.consumption.apply(parser2)\n",
    "df['cons_city'] = df.cons_city.str.extract('(\\d{1,2}.\\d|\\d{1,3})')[0].astype('float')\n",
    "df['cons_country'] = df.consumption.apply(parser3)\n",
    "df['cons_country'] = df.cons_country.str.extract('(\\d{1,2}.\\d)|\\d{1,3}')[0].astype('float')"
   ]
  },
  {
   "cell_type": "markdown",
   "metadata": {},
   "source": [
    "### 18-non-smoking_vehicle"
   ]
  },
  {
   "cell_type": "code",
   "execution_count": null,
   "metadata": {},
   "outputs": [],
   "source": [
    "df['non-smoking_vehicle'].str.join('').str.strip('\\n').value_counts(dropna=False)"
   ]
  },
  {
   "cell_type": "code",
   "execution_count": null,
   "metadata": {
    "scrolled": true
   },
   "outputs": [],
   "source": [
    "df['non-smoking_vehicle'] = [\",\".join(x) if type(x) == list else x for x in df['non-smoking_vehicle']]\n",
    "df['non-smoking_vehicle1']=df['non-smoking_vehicle'].str.split(\",\").str[2].str.extract('(\\D+\\s\\d\\D)')[0].str.replace('\\n','')#Emission_cclass için euro değerleri\n",
    "df['emission_class4']=df.emission_class3.fillna(df['non-smoking_vehicle1']) #emission_class non-smoking ile dolduruldu\n",
    "df['non-smoking_vehicle2']=df['non-smoking_vehicle'].str.split(\",\").str[2].str.extract('(\\d+)')[0] #co2 değerleri\n",
    "df[\"co2_emission6\"]=df.co2_emission5.fillna(df['non-smoking_vehicle2']).astype(float) #co2 emission non-smoking_vehicle2 ile dolduruldu\n",
    "def value_check(x):\n",
    "    if x<50:\n",
    "        return np.nan\n",
    "    else:\n",
    "        return x\n",
    "#bu fonksiyon ile co2_emission6 da biriken 2 4 6 gibi başka yerlerden gelen anlamsız değerler temizlendi \n",
    "df.co2_emission6=df.co2_emission6.apply(value_check)"
   ]
  },
  {
   "cell_type": "code",
   "execution_count": null,
   "metadata": {},
   "outputs": [],
   "source": [
    "df['non-smoking_vehicle3']=df['non-smoking_vehicle'].str.split(\",\").str[2].str.extract('(\\d \\D+)')[0].str.replace(\"\\n\",\"\").str.strip(\" \")#emission_label içindeki green değerleri\n",
    "df['non-smoking_vehicle3']=df['non-smoking_vehicle3'].apply(emission_label_control)\n",
    "df[\"full_service3\"]=df.full_service.str.split(\",\").str[2].str.extract('(\\d \\D+)')[0].str.replace(\"\\n\",\"\").str.strip(\" \")#emission_label içindeki green değerleri\n",
    "df.full_service3=df.full_service3.apply(emission_label_control)\n",
    "df[\"emission_label3\"]=df.emission_label2.fillna(df.full_service3) \n",
    "df[\"emission_label4\"]=df.emission_label3.fillna(df['non-smoking_vehicle3']) #null değerler azaldı"
   ]
  },
  {
   "cell_type": "markdown",
   "metadata": {},
   "source": [
    "### 39-co2_emission"
   ]
  },
  {
   "cell_type": "code",
   "execution_count": null,
   "metadata": {},
   "outputs": [],
   "source": [
    "df[\"co2_emission\"].str.join(\"\").str.strip('\\n').value_counts(dropna=False)"
   ]
  },
  {
   "cell_type": "markdown",
   "metadata": {},
   "source": [
    "### 40-emission_class"
   ]
  },
  {
   "cell_type": "code",
   "execution_count": null,
   "metadata": {},
   "outputs": [],
   "source": [
    "df[\"emission_class\"].str.join(\"\").str.strip('\\n').value_counts(dropna=False)"
   ]
  },
  {
   "cell_type": "code",
   "execution_count": null,
   "metadata": {},
   "outputs": [],
   "source": [
    "df.emission_class4.value_counts(dropna=False)"
   ]
  },
  {
   "cell_type": "markdown",
   "metadata": {},
   "source": [
    "### 46-emission_label"
   ]
  },
  {
   "cell_type": "code",
   "execution_count": null,
   "metadata": {},
   "outputs": [],
   "source": [
    "df[\"emission_label\"].value_counts(dropna=False)"
   ]
  },
  {
   "cell_type": "code",
   "execution_count": null,
   "metadata": {},
   "outputs": [],
   "source": [
    "df.emission_label4.value_counts(dropna=False)"
   ]
  },
  {
   "cell_type": "code",
   "execution_count": null,
   "metadata": {},
   "outputs": [],
   "source": [
    "def emission_label_control(x): \n",
    "    if x in list_emission_label:\n",
    "        return x\n",
    "    else:\n",
    "        return np.nan\n",
    "    \n",
    "df.next_inspection4=df.next_inspection4.apply(emission_label_control)\n",
    "df.next_inspection4.value_counts()\n",
    "df[\"emission_label\"] = df[\"emission_label\"].str.join('').str.strip('\\n')\n",
    "df[\"emission_label1\"]=df.emission_label.fillna(df.next_inspection4)"
   ]
  },
  {
   "cell_type": "markdown",
   "metadata": {},
   "source": [
    "### 19-null"
   ]
  },
  {
   "cell_type": "code",
   "execution_count": null,
   "metadata": {},
   "outputs": [],
   "source": [
    "df[\"null\"] = df[\"null\"].str.join(\"\")\n",
    "df[\"null\"].value_counts(dropna=False)"
   ]
  },
  {
   "cell_type": "markdown",
   "metadata": {},
   "source": [
    "##### We will add this column to our drop list. All values are same and have no information"
   ]
  },
  {
   "cell_type": "markdown",
   "metadata": {},
   "source": [
    "### 22-offer_number"
   ]
  },
  {
   "cell_type": "code",
   "execution_count": null,
   "metadata": {},
   "outputs": [],
   "source": [
    "df[\"offer_number\"] = df[\"offer_number\"].str.join(\"\").str.strip('\\n')\n",
    "df[\"offer_number\"].value_counts(dropna=False)"
   ]
  },
  {
   "cell_type": "markdown",
   "metadata": {},
   "source": [
    "### 24-body_color"
   ]
  },
  {
   "cell_type": "code",
   "execution_count": null,
   "metadata": {},
   "outputs": [],
   "source": [
    "df[\"body_color\"] = df[\"body_color\"].str.join(\"\").str.strip('\\n')\n",
    "df.body_color.value_counts(dropna=False)"
   ]
  },
  {
   "cell_type": "code",
   "execution_count": null,
   "metadata": {},
   "outputs": [],
   "source": [
    "df.groupby(\"body_color\")['price'].mean()"
   ]
  },
  {
   "cell_type": "markdown",
   "metadata": {},
   "source": [
    "### 25-paint_type"
   ]
  },
  {
   "cell_type": "code",
   "execution_count": null,
   "metadata": {},
   "outputs": [],
   "source": [
    "df[\"paint_type\"] = df[\"paint_type\"].str.join(\"\").str.strip('\\n')\n",
    "df.paint_type.value_counts(dropna=False)"
   ]
  },
  {
   "cell_type": "code",
   "execution_count": null,
   "metadata": {},
   "outputs": [],
   "source": [
    "df.groupby(\"paint_type\")['price'].mean()"
   ]
  },
  {
   "cell_type": "markdown",
   "metadata": {},
   "source": [
    "### 26-body_color_original"
   ]
  },
  {
   "cell_type": "code",
   "execution_count": null,
   "metadata": {},
   "outputs": [],
   "source": [
    "df[\"body_color_original\"] = df[\"body_color_original\"].str.join(\"\").str.strip('\\n')\n",
    "df[\"body_color_original\"].value_counts(dropna=False)"
   ]
  },
  {
   "cell_type": "markdown",
   "metadata": {},
   "source": [
    "### 27-upholstery"
   ]
  },
  {
   "cell_type": "code",
   "execution_count": null,
   "metadata": {},
   "outputs": [],
   "source": [
    "df[\"upholstery\"].str.join('').str.strip('\\n').value_counts(dropna=False)"
   ]
  },
  {
   "cell_type": "code",
   "execution_count": null,
   "metadata": {},
   "outputs": [],
   "source": [
    "df.upholstery = [item[0] if type(item) == list else item for item in df.upholstery]\n",
    "df.upholstery = df.upholstery.str.strip('\\n').str.split(', ')\n",
    "u_type  = ['Cloth', 'Part leather', 'Full leather', 'Velour', 'alcantara']\n",
    "df['Upholstery_Type'] = df.upholstery.apply(lambda x : x[0] if type(x) == list and x[0] in u_type else np.nan)"
   ]
  },
  {
   "cell_type": "code",
   "execution_count": null,
   "metadata": {},
   "outputs": [],
   "source": [
    "df.upholstery.str.join('').value_counts(dropna = False)"
   ]
  },
  {
   "cell_type": "code",
   "execution_count": null,
   "metadata": {},
   "outputs": [],
   "source": [
    "color = ['Black', 'Grey', 'Brown', 'Beige', 'White', 'Blue', 'Red', 'Yellow', 'Orange']\n",
    "\n",
    "def finder(x):\n",
    "    if type(x) == list and len(x) == 2 :\n",
    "        return x[1]\n",
    "    elif type(x) == list and x[0] in color :\n",
    "        return x[0]\n",
    "    else :\n",
    "        return np.nan\n",
    "df['Upholstery_color'] = df.upholstery.apply(finder)"
   ]
  },
  {
   "cell_type": "code",
   "execution_count": null,
   "metadata": {},
   "outputs": [],
   "source": [
    "df.drop('upholstery', axis = 1, inplace = True)"
   ]
  },
  {
   "cell_type": "markdown",
   "metadata": {},
   "source": [
    "### 29-nr_of_doors"
   ]
  },
  {
   "cell_type": "code",
   "execution_count": null,
   "metadata": {},
   "outputs": [],
   "source": [
    "df[\"nr_of_doors\"] = df[\"nr_of_doors\"].str.join(\"\").str.strip('\\n')\n",
    "df[\"nr_of_doors\"].value_counts(dropna=False)"
   ]
  },
  {
   "cell_type": "code",
   "execution_count": null,
   "metadata": {},
   "outputs": [],
   "source": [
    "df.groupby(\"nr_of_doors\")['price'].mean()"
   ]
  },
  {
   "cell_type": "markdown",
   "metadata": {},
   "source": [
    "### 30-nr_of_seats"
   ]
  },
  {
   "cell_type": "code",
   "execution_count": null,
   "metadata": {},
   "outputs": [],
   "source": [
    "df[\"nr_of_seats\"] = df[\"nr_of_seats\"].str.join(\"\").str.strip('\\n')\n",
    "df[\"nr_of_seats\"].value_counts(dropna=False)"
   ]
  },
  {
   "cell_type": "code",
   "execution_count": null,
   "metadata": {},
   "outputs": [],
   "source": [
    "df.groupby(\"nr_of_seats\")['price'].mean()"
   ]
  },
  {
   "cell_type": "markdown",
   "metadata": {},
   "source": [
    "### 31-model_code"
   ]
  },
  {
   "cell_type": "code",
   "execution_count": null,
   "metadata": {},
   "outputs": [],
   "source": [
    "df[\"model_code\"] = df[\"model_code\"].str.join(\"\").str.strip('\\n')\n",
    "df[\"model_code\"].value_counts(dropna=False)"
   ]
  },
  {
   "cell_type": "markdown",
   "metadata": {},
   "source": [
    "### 32-gearing_type"
   ]
  },
  {
   "cell_type": "code",
   "execution_count": null,
   "metadata": {},
   "outputs": [],
   "source": [
    "df[\"gearing_type\"] = df[\"gearing_type\"].str.join(\"\").str.strip('\\n')\n",
    "df[\"gearing_type\"].value_counts(dropna=False)"
   ]
  },
  {
   "cell_type": "code",
   "execution_count": null,
   "metadata": {},
   "outputs": [],
   "source": [
    "df.groupby(\"gearing_type\")['price'].mean()"
   ]
  },
  {
   "cell_type": "code",
   "execution_count": null,
   "metadata": {},
   "outputs": [],
   "source": [
    "df[\"gearing_type\"].replace('Semi-automatic','Automatic',inplace=True)"
   ]
  },
  {
   "cell_type": "code",
   "execution_count": null,
   "metadata": {},
   "outputs": [],
   "source": [
    "df.groupby(\"gearing_type\")['price'].mean()"
   ]
  },
  {
   "cell_type": "markdown",
   "metadata": {},
   "source": [
    "### 33-displacement"
   ]
  },
  {
   "cell_type": "code",
   "execution_count": null,
   "metadata": {},
   "outputs": [],
   "source": [
    "df[\"displacement\"] = df[\"displacement\"].str.join(\"\").str.strip('\\n').str.findall('\\d+').str.join(\"\").str.strip(',').astype('float')\n",
    "df[\"displacement\"].value_counts(dropna=False)"
   ]
  },
  {
   "cell_type": "markdown",
   "metadata": {},
   "source": [
    "### 34-cylinders"
   ]
  },
  {
   "cell_type": "code",
   "execution_count": null,
   "metadata": {},
   "outputs": [],
   "source": [
    "df[\"cylinders\"] = df[\"cylinders\"].str[0].str.strip('\\n')\n",
    "df[\"cylinders\"].value_counts(dropna=False)"
   ]
  },
  {
   "cell_type": "markdown",
   "metadata": {},
   "source": [
    "### 35-weight"
   ]
  },
  {
   "cell_type": "code",
   "execution_count": null,
   "metadata": {},
   "outputs": [],
   "source": [
    "df[\"weight\"] = df[\"weight\"].str.join(\"\").str.strip('\\n').str.findall('\\d+').str.join(\"\").str.strip(',').astype('float')\n",
    "df[\"weight\"].value_counts(dropna=False)"
   ]
  },
  {
   "cell_type": "code",
   "execution_count": null,
   "metadata": {},
   "outputs": [],
   "source": [
    "df.groupby(\"weight\")['price'].mean()"
   ]
  },
  {
   "cell_type": "markdown",
   "metadata": {},
   "source": [
    "##### It seems that there is no correlation between the weight of the car and price. We will add this column to our drop list"
   ]
  },
  {
   "cell_type": "markdown",
   "metadata": {},
   "source": [
    "### 36-drive_chain"
   ]
  },
  {
   "cell_type": "code",
   "execution_count": null,
   "metadata": {},
   "outputs": [],
   "source": [
    "df[\"drive_chain\"] = df[\"drive_chain\"].str.join(\"\").str.strip('\\n')\n",
    "df[\"drive_chain\"].value_counts()"
   ]
  },
  {
   "cell_type": "markdown",
   "metadata": {},
   "source": [
    "### 41-comfort&convenience"
   ]
  },
  {
   "cell_type": "code",
   "execution_count": null,
   "metadata": {},
   "outputs": [],
   "source": [
    "df[\"comfort&convenience\"].str.join('').value_counts(dropna=False).head(10)"
   ]
  },
  {
   "cell_type": "code",
   "execution_count": null,
   "metadata": {},
   "outputs": [],
   "source": [
    "df[\"comfort&convenience\"] = [','.join(item) if type(item) == list else item for item in  df['comfort&convenience']]"
   ]
  },
  {
   "cell_type": "markdown",
   "metadata": {},
   "source": [
    "### 42-entertainment&media"
   ]
  },
  {
   "cell_type": "code",
   "execution_count": null,
   "metadata": {},
   "outputs": [],
   "source": [
    "df[\"entertainment&media\"].str.join('').value_counts(dropna=False).head(5)"
   ]
  },
  {
   "cell_type": "code",
   "execution_count": null,
   "metadata": {},
   "outputs": [],
   "source": [
    "df[\"entertainment&media\"].str.join(\"\").nunique()"
   ]
  },
  {
   "cell_type": "markdown",
   "metadata": {},
   "source": [
    "### 43- extras"
   ]
  },
  {
   "cell_type": "code",
   "execution_count": null,
   "metadata": {},
   "outputs": [],
   "source": [
    "df[\"extras\"].str.join('').value_counts(dropna=False).head(5)"
   ]
  },
  {
   "cell_type": "code",
   "execution_count": null,
   "metadata": {},
   "outputs": [],
   "source": [
    "df[\"extras\"].str.join(\"\").nunique()"
   ]
  },
  {
   "cell_type": "markdown",
   "metadata": {},
   "source": [
    "### 44-safety&security"
   ]
  },
  {
   "cell_type": "code",
   "execution_count": null,
   "metadata": {},
   "outputs": [],
   "source": [
    "df[\"safety&security\"].str.join('').value_counts(dropna=False).head(5)"
   ]
  },
  {
   "cell_type": "code",
   "execution_count": null,
   "metadata": {},
   "outputs": [],
   "source": [
    "df[\"safety&security\"].str.join(\"\").nunique()"
   ]
  },
  {
   "cell_type": "markdown",
   "metadata": {},
   "source": [
    "### 47-gears"
   ]
  },
  {
   "cell_type": "code",
   "execution_count": null,
   "metadata": {},
   "outputs": [],
   "source": [
    "df[\"gears\"] = [\",\".join(x) if type(x) == list else x for x in df[\"gears\"]]\n",
    "df[\"gears\"] = df[\"gears\"].str.strip('\\n')"
   ]
  },
  {
   "cell_type": "code",
   "execution_count": null,
   "metadata": {},
   "outputs": [],
   "source": [
    "df[\"gears\"].value_counts(dropna=False)"
   ]
  },
  {
   "cell_type": "code",
   "execution_count": null,
   "metadata": {},
   "outputs": [],
   "source": [
    "df[\"gears\"] = df[\"gears\"].astype(str)"
   ]
  },
  {
   "cell_type": "code",
   "execution_count": null,
   "metadata": {},
   "outputs": [],
   "source": [
    "df.groupby('gears')['price'].mean()"
   ]
  },
  {
   "cell_type": "markdown",
   "metadata": {},
   "source": [
    "### 48-country_version"
   ]
  },
  {
   "cell_type": "code",
   "execution_count": null,
   "metadata": {},
   "outputs": [],
   "source": [
    "df[\"country_version\"] = [\",\".join(x) if type(x) == list else x for x in df[\"country_version\"]]\n",
    "df[\"country_version\"] = df[\"country_version\"].str.strip('\\n')"
   ]
  },
  {
   "cell_type": "code",
   "execution_count": null,
   "metadata": {},
   "outputs": [],
   "source": [
    "df.country_version.value_counts(dropna=False)"
   ]
  },
  {
   "cell_type": "markdown",
   "metadata": {},
   "source": [
    "### 49-Electricity consumption, 50-Last Service Date, 51-other_fuel_types, 52-availability, 53-last_timing_belt_service_date, 54-Available from"
   ]
  },
  {
   "cell_type": "markdown",
   "metadata": {},
   "source": [
    "##### These columns consists more than %90 NULL values and we can't fill them by checking other columns. We will add these columns to our drop list"
   ]
  },
  {
   "cell_type": "code",
   "execution_count": null,
   "metadata": {},
   "outputs": [],
   "source": [
    "df.shape"
   ]
  },
  {
   "cell_type": "code",
   "execution_count": null,
   "metadata": {},
   "outputs": [],
   "source": [
    "df.head(2)"
   ]
  },
  {
   "cell_type": "code",
   "execution_count": null,
   "metadata": {},
   "outputs": [],
   "source": [
    "drop_list = [\"url\",\"make\",\"model\",\"short_description\",\"description\",\"body\",\"registration\",\"full_service\", \"first_registration\",\"kw\",\"next_inspection\",\"non-smoking_vehicle\",\"emission_label\",\"null\",\"offer_number\",\"body_color\",\"paint_type\",\"body_color_original\",\"nr_of_seats\",\"nr_of_doors\",\"model_code\",\"cylinders\",\"weight\",\"drive_chain\",\"country_version\",\"electricity_consumption\",\"last_service_date\",\"other_fuel_types\",\"availability\",\"last_timing_belt_service_date\", \"available_from\",\"Upholstery_color\",\"emission_label4\",\"emission_label3\",\"full_service3\",\"non-smoking_vehicle3\",\"non-smoking_vehicle2\",\"emission_class\",\"emission_class4\",\"non-smoking_vehicle1\",\"co2_emission5\",\"full_service2\",\"emission_class3\",\"full_service1\",\"emission_label2\",\"co2_emission4\",\"emission_class2\",\"emission_class1\",\"warranty4\",\"warranty3\",\"warranty2\",\"co2_emission3\",\"inspection_new2\",\"inspection_new1\",\"emission_label1\",\"co2_emission2\",\"next_inspection4\",\"next_inspection3\",\"next_inspection2\",\"co2_emission1\",\"consumption\",\"inspection_new\",\"warranty\"]"
   ]
  },
  {
   "cell_type": "code",
   "execution_count": null,
   "metadata": {},
   "outputs": [],
   "source": [
    "df.drop(drop_list ,axis=1,inplace=True)"
   ]
  },
  {
   "cell_type": "code",
   "execution_count": null,
   "metadata": {},
   "outputs": [],
   "source": [
    "df.head(2)"
   ]
  },
  {
   "cell_type": "code",
   "execution_count": null,
   "metadata": {},
   "outputs": [],
   "source": [
    "df[\"Inspection\"].value_counts()"
   ]
  },
  {
   "cell_type": "code",
   "execution_count": null,
   "metadata": {},
   "outputs": [],
   "source": [
    "df.shape"
   ]
  },
  {
   "cell_type": "code",
   "execution_count": null,
   "metadata": {},
   "outputs": [],
   "source": [
    "df.head(10)"
   ]
  },
  {
   "cell_type": "code",
   "execution_count": null,
   "metadata": {},
   "outputs": [],
   "source": [
    "df.to_csv('Capstone_Cleaning.csv')"
   ]
  },
  {
   "cell_type": "code",
   "execution_count": null,
   "metadata": {},
   "outputs": [],
   "source": []
  }
 ],
 "metadata": {
  "kernelspec": {
   "display_name": "Python 3 (ipykernel)",
   "language": "python",
   "name": "python3"
  },
  "language_info": {
   "codemirror_mode": {
    "name": "ipython",
    "version": 3
   },
   "file_extension": ".py",
   "mimetype": "text/x-python",
   "name": "python",
   "nbconvert_exporter": "python",
   "pygments_lexer": "ipython3",
   "version": "3.8.10"
  }
 },
 "nbformat": 4,
 "nbformat_minor": 5
}
